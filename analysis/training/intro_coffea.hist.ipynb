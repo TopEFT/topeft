{
 "cells": [
  {
   "cell_type": "markdown",
   "metadata": {
    "slideshow": {
     "slide_type": "slide"
    }
   },
   "source": [
    "# Intro to coffea.hist"
   ]
  },
  {
   "cell_type": "markdown",
   "metadata": {},
   "source": [
    "A histogram in Coffea is a `N-D` collection of different categories, along with bin(s)"
   ]
  },
  {
   "cell_type": "markdown",
   "metadata": {},
   "source": [
    "Let's start by importing some necessary libraries"
   ]
  },
  {
   "cell_type": "code",
   "execution_count": 1,
   "metadata": {
    "slideshow": {
     "slide_type": "subslide"
    }
   },
   "outputs": [],
   "source": [
    "from coffea import hist\n",
    "import matplotlib.pyplot as plt #plot histograms\n",
    "import numpy as np"
   ]
  },
  {
   "cell_type": "markdown",
   "metadata": {},
   "source": [
    "Let's first explore 1D coffea histograms"
   ]
  },
  {
   "cell_type": "code",
   "execution_count": 2,
   "metadata": {},
   "outputs": [],
   "source": [
    "hist_1D = hist.Hist(\"Beverage items\",\n",
    "                    hist.Cat(\"soda\", \"different soda\"),\n",
    "                    hist.Bin(\"x\",\"x coordinate [m]\",20, -5,5),\n",
    "                   )"
   ]
  },
  {
   "cell_type": "markdown",
   "metadata": {},
   "source": [
    "Retrieving the histogram's bin contents using `values()`"
   ]
  },
  {
   "cell_type": "code",
   "execution_count": 3,
   "metadata": {},
   "outputs": [
    {
     "data": {
      "text/plain": [
       "{}"
      ]
     },
     "execution_count": 3,
     "metadata": {},
     "output_type": "execute_result"
    }
   ],
   "source": [
    "hist_1D.values()"
   ]
  },
  {
   "cell_type": "markdown",
   "metadata": {},
   "source": [
    "Let's use `fill()` to add different kinds of soda, with random x values using `numpy.random`"
   ]
  },
  {
   "cell_type": "code",
   "execution_count": 4,
   "metadata": {},
   "outputs": [],
   "source": [
    "hist_1D.fill(soda=\"cocacola\",x=np.random.normal(size=10))"
   ]
  },
  {
   "cell_type": "code",
   "execution_count": 5,
   "metadata": {},
   "outputs": [
    {
     "data": {
      "text/plain": [
       "{('cocacola',): array([0., 0., 0., 0., 0., 0., 1., 0., 0., 3., 3., 2., 1., 0., 0., 0., 0.,\n",
       "        0., 0., 0.])}"
      ]
     },
     "execution_count": 5,
     "metadata": {},
     "output_type": "execute_result"
    }
   ],
   "source": [
    "hist_1D.values()"
   ]
  },
  {
   "cell_type": "markdown",
   "metadata": {},
   "source": [
    "Let's fill the hist with another soda item, again using `numpy.random`.. this time with a weight of 5 each."
   ]
  },
  {
   "cell_type": "code",
   "execution_count": 6,
   "metadata": {},
   "outputs": [],
   "source": [
    "hist_1D.fill(soda=\"pepsi\",x=np.random.normal(size=10), weight=np.ones(10)*5)"
   ]
  },
  {
   "cell_type": "code",
   "execution_count": 7,
   "metadata": {},
   "outputs": [
    {
     "data": {
      "text/plain": [
       "{('cocacola',): array([0., 0., 0., 0., 0., 0., 1., 0., 0., 3., 3., 2., 1., 0., 0., 0., 0.,\n",
       "        0., 0., 0.]),\n",
       " ('pepsi',): array([ 0.,  0.,  0.,  0.,  0.,  0.,  5.,  0.,  5.,  5.,  0., 15.,  5.,\n",
       "        10.,  0.,  5.,  0.,  0.,  0.,  0.])}"
      ]
     },
     "execution_count": 7,
     "metadata": {},
     "output_type": "execute_result"
    }
   ],
   "source": [
    "hist_1D.values()"
   ]
  },
  {
   "cell_type": "markdown",
   "metadata": {},
   "source": [
    "Let's use `axes()` to explore the histogram "
   ]
  },
  {
   "cell_type": "code",
   "execution_count": 8,
   "metadata": {},
   "outputs": [
    {
     "data": {
      "text/plain": [
       "(<Cat (name=soda) instance at 0x7fd50707c7f0>,\n",
       " <Bin (name=x) instance at 0x7fd50707c820>)"
      ]
     },
     "execution_count": 8,
     "metadata": {},
     "output_type": "execute_result"
    }
   ],
   "source": [
    "hist_1D.axes()"
   ]
  },
  {
   "cell_type": "markdown",
   "metadata": {},
   "source": [
    "Let's use `integrate()`. Coffea hist documentation says `integrate()` --> Integrates current histogram along one dimension"
   ]
  },
  {
   "cell_type": "code",
   "execution_count": 9,
   "metadata": {},
   "outputs": [
    {
     "name": "stdout",
     "output_type": "stream",
     "text": [
      "<Hist (x) instance at 0x7fd5070a1760>\n"
     ]
    }
   ],
   "source": [
    "print(hist_1D.integrate('soda'))"
   ]
  },
  {
   "cell_type": "code",
   "execution_count": 10,
   "metadata": {},
   "outputs": [
    {
     "name": "stdout",
     "output_type": "stream",
     "text": [
      "{(): array([ 0.,  0.,  0.,  0.,  0.,  0.,  6.,  0.,  5.,  8.,  3., 17.,  6.,\n",
      "       10.,  0.,  5.,  0.,  0.,  0.,  0.])}\n"
     ]
    }
   ],
   "source": [
    "print(hist_1D.integrate('soda').values())"
   ]
  },
  {
   "cell_type": "code",
   "execution_count": 11,
   "metadata": {},
   "outputs": [
    {
     "name": "stdout",
     "output_type": "stream",
     "text": [
      "<Hist (soda) instance at 0x7fd5070a1e50>\n"
     ]
    }
   ],
   "source": [
    "print(hist_1D.integrate('x'))"
   ]
  },
  {
   "cell_type": "code",
   "execution_count": 12,
   "metadata": {},
   "outputs": [
    {
     "name": "stdout",
     "output_type": "stream",
     "text": [
      "{('cocacola',): 10.0, ('pepsi',): 50.0}\n"
     ]
    }
   ],
   "source": [
    "print(hist_1D.integrate('x').values())"
   ]
  },
  {
   "cell_type": "markdown",
   "metadata": {},
   "source": [
    "Let's use matplotlib and coffea `plot1d` to draw a histogram"
   ]
  },
  {
   "cell_type": "code",
   "execution_count": 13,
   "metadata": {},
   "outputs": [
    {
     "data": {
      "text/plain": [
       "<AxesSubplot:xlabel='x coordinate [m]', ylabel='Beverage items'>"
      ]
     },
     "execution_count": 13,
     "metadata": {},
     "output_type": "execute_result"
    },
    {
     "data": {
      "image/png": "[encoded data removed]",
      "text/plain": [
       "<Figure size 432x288 with 1 Axes>"
      ]
     },
     "metadata": {
      "needs_background": "light"
     },
     "output_type": "display_data"
    }
   ],
   "source": [
    "hist.plot1d(hist_1D.integrate('soda'),stack=True)"
   ]
  },
  {
   "cell_type": "markdown",
   "metadata": {},
   "source": [
    "Let's move to 2D histograms. Simple example from the Coffea manual plus Brent's tutorial notebook from last year."
   ]
  },
  {
   "cell_type": "code",
   "execution_count": 14,
   "metadata": {},
   "outputs": [],
   "source": [
    "h = hist.Hist(\"Observed bird count\",\n",
    "               hist.Cat(\"species\", \"Bird species\"),\n",
    "               hist.Bin(\"x\", \"x coordinate [m]\", 10, -5, 5),\n",
    "               hist.Bin(\"y\", \"y coordinate [m]\", 10, -5, 5),\n",
    "             )"
   ]
  },
  {
   "cell_type": "markdown",
   "metadata": {},
   "source": [
    "Now we'ss use `fill()` to add 10 `ducks`, with random `x-y` values using `numpy.random`, each with a weight of 3"
   ]
  },
  {
   "cell_type": "code",
   "execution_count": 15,
   "metadata": {},
   "outputs": [],
   "source": [
    "h.fill(species='ducks', x=np.random.normal(size=10), y=np.random.normal(size=10), weight=np.ones(10) * 3)"
   ]
  },
  {
   "cell_type": "markdown",
   "metadata": {},
   "source": [
    "Now I'll add another species"
   ]
  },
  {
   "cell_type": "code",
   "execution_count": 16,
   "metadata": {},
   "outputs": [],
   "source": [
    "h.fill(species='phoenix', x=np.random.normal(size=8), y=np.random.normal(size=8), weight=np.ones(8)*9)"
   ]
  },
  {
   "cell_type": "code",
   "execution_count": 17,
   "metadata": {},
   "outputs": [
    {
     "data": {
      "text/plain": [
       "{('ducks',): array([[0., 0., 0., 0., 0., 0., 0., 0., 0., 0.],\n",
       "        [0., 0., 0., 0., 0., 0., 0., 0., 0., 0.],\n",
       "        [0., 0., 0., 0., 0., 0., 0., 0., 0., 0.],\n",
       "        [0., 0., 0., 3., 3., 0., 3., 0., 0., 0.],\n",
       "        [0., 0., 3., 0., 3., 6., 0., 0., 0., 0.],\n",
       "        [0., 0., 0., 3., 3., 3., 0., 0., 0., 0.],\n",
       "        [0., 0., 0., 0., 0., 0., 0., 0., 0., 0.],\n",
       "        [0., 0., 0., 0., 0., 0., 0., 0., 0., 0.],\n",
       "        [0., 0., 0., 0., 0., 0., 0., 0., 0., 0.],\n",
       "        [0., 0., 0., 0., 0., 0., 0., 0., 0., 0.]]),\n",
       " ('phoenix',): array([[ 0.,  0.,  0.,  0.,  0.,  0.,  0.,  0.,  0.,  0.],\n",
       "        [ 0.,  0.,  0.,  0.,  0.,  0.,  0.,  0.,  0.,  0.],\n",
       "        [ 0.,  0.,  0.,  0.,  0.,  0.,  0.,  0.,  0.,  0.],\n",
       "        [ 0.,  0.,  0.,  9.,  0.,  0.,  0.,  0.,  0.,  0.],\n",
       "        [ 0.,  0.,  0.,  0., 27.,  9.,  0.,  0.,  0.,  0.],\n",
       "        [ 0.,  0.,  0.,  0.,  0., 18.,  0.,  0.,  0.,  0.],\n",
       "        [ 0.,  0.,  0.,  9.,  0.,  0.,  0.,  0.,  0.,  0.],\n",
       "        [ 0.,  0.,  0.,  0.,  0.,  0.,  0.,  0.,  0.,  0.],\n",
       "        [ 0.,  0.,  0.,  0.,  0.,  0.,  0.,  0.,  0.,  0.],\n",
       "        [ 0.,  0.,  0.,  0.,  0.,  0.,  0.,  0.,  0.,  0.]])}"
      ]
     },
     "execution_count": 17,
     "metadata": {},
     "output_type": "execute_result"
    }
   ],
   "source": [
    "h.values()"
   ]
  },
  {
   "cell_type": "markdown",
   "metadata": {},
   "source": [
    "Now let's use `integrate()` for 2d coffea histograms"
   ]
  },
  {
   "cell_type": "code",
   "execution_count": 18,
   "metadata": {},
   "outputs": [
    {
     "data": {
      "text/plain": [
       "<Hist (x,y) instance at 0x7fd51266cd60>"
      ]
     },
     "execution_count": 18,
     "metadata": {},
     "output_type": "execute_result"
    }
   ],
   "source": [
    "h.integrate('species')"
   ]
  },
  {
   "cell_type": "code",
   "execution_count": 19,
   "metadata": {},
   "outputs": [
    {
     "data": {
      "text/plain": [
       "{(): array([[ 0.,  0.,  0.,  0.,  0.,  0.,  0.,  0.,  0.,  0.],\n",
       "        [ 0.,  0.,  0.,  0.,  0.,  0.,  0.,  0.,  0.,  0.],\n",
       "        [ 0.,  0.,  0.,  0.,  0.,  0.,  0.,  0.,  0.,  0.],\n",
       "        [ 0.,  0.,  0., 12.,  3.,  0.,  3.,  0.,  0.,  0.],\n",
       "        [ 0.,  0.,  3.,  0., 30., 15.,  0.,  0.,  0.,  0.],\n",
       "        [ 0.,  0.,  0.,  3.,  3., 21.,  0.,  0.,  0.,  0.],\n",
       "        [ 0.,  0.,  0.,  9.,  0.,  0.,  0.,  0.,  0.,  0.],\n",
       "        [ 0.,  0.,  0.,  0.,  0.,  0.,  0.,  0.,  0.,  0.],\n",
       "        [ 0.,  0.,  0.,  0.,  0.,  0.,  0.,  0.,  0.,  0.],\n",
       "        [ 0.,  0.,  0.,  0.,  0.,  0.,  0.,  0.,  0.,  0.]])}"
      ]
     },
     "execution_count": 19,
     "metadata": {},
     "output_type": "execute_result"
    }
   ],
   "source": [
    "h.integrate('species').values()"
   ]
  },
  {
   "cell_type": "code",
   "execution_count": 20,
   "metadata": {},
   "outputs": [
    {
     "data": {
      "text/plain": [
       "{(): array([[0., 0., 0., 0., 0., 0., 0., 0., 0., 0.],\n",
       "        [0., 0., 0., 0., 0., 0., 0., 0., 0., 0.],\n",
       "        [0., 0., 0., 0., 0., 0., 0., 0., 0., 0.],\n",
       "        [0., 0., 0., 3., 3., 0., 3., 0., 0., 0.],\n",
       "        [0., 0., 3., 0., 3., 6., 0., 0., 0., 0.],\n",
       "        [0., 0., 0., 3., 3., 3., 0., 0., 0., 0.],\n",
       "        [0., 0., 0., 0., 0., 0., 0., 0., 0., 0.],\n",
       "        [0., 0., 0., 0., 0., 0., 0., 0., 0., 0.],\n",
       "        [0., 0., 0., 0., 0., 0., 0., 0., 0., 0.],\n",
       "        [0., 0., 0., 0., 0., 0., 0., 0., 0., 0.]])}"
      ]
     },
     "execution_count": 20,
     "metadata": {},
     "output_type": "execute_result"
    }
   ],
   "source": [
    "h.integrate('species','ducks').values()"
   ]
  },
  {
   "cell_type": "code",
   "execution_count": 21,
   "metadata": {},
   "outputs": [
    {
     "data": {
      "text/plain": [
       "<Hist (species,y) instance at 0x7fd5126835e0>"
      ]
     },
     "execution_count": 21,
     "metadata": {},
     "output_type": "execute_result"
    }
   ],
   "source": [
    "h.integrate('x')"
   ]
  },
  {
   "cell_type": "code",
   "execution_count": 22,
   "metadata": {},
   "outputs": [
    {
     "data": {
      "text/plain": [
       "{('ducks',): array([0., 0., 3., 6., 9., 9., 3., 0., 0., 0.]),\n",
       " ('phoenix',): array([ 0.,  0.,  0., 18., 27., 27.,  0.,  0.,  0.,  0.])}"
      ]
     },
     "execution_count": 22,
     "metadata": {},
     "output_type": "execute_result"
    }
   ],
   "source": [
    "h.integrate('x').values()"
   ]
  },
  {
   "cell_type": "code",
   "execution_count": 23,
   "metadata": {},
   "outputs": [
    {
     "data": {
      "text/plain": [
       "{('ducks',): array([ 0.,  0.,  0.,  9., 12.,  9.,  0.,  0.,  0.,  0.]),\n",
       " ('phoenix',): array([ 0.,  0.,  0.,  9., 36., 18.,  9.,  0.,  0.,  0.])}"
      ]
     },
     "execution_count": 23,
     "metadata": {},
     "output_type": "execute_result"
    }
   ],
   "source": [
    "h.integrate('y').values()"
   ]
  },
  {
   "cell_type": "code",
   "execution_count": 24,
   "metadata": {},
   "outputs": [
    {
     "data": {
      "text/plain": [
       "{(): array([ 0.,  0.,  3., 24., 36., 36.,  3.,  0.,  0.,  0.])}"
      ]
     },
     "execution_count": 24,
     "metadata": {},
     "output_type": "execute_result"
    }
   ],
   "source": [
    "h.integrate('species').integrate('x').values()"
   ]
  },
  {
   "cell_type": "markdown",
   "metadata": {},
   "source": [
    "Let's create a plot to draw everthing in using matplotlib and the `plot2d()` method in `coffea.hist`"
   ]
  },
  {
   "cell_type": "code",
   "execution_count": 25,
   "metadata": {
    "slideshow": {
     "slide_type": "slide"
    }
   },
   "outputs": [
    {
     "data": {
      "text/plain": [
       "<AxesSubplot:xlabel='x coordinate [m]', ylabel='y coordinate [m]'>"
      ]
     },
     "execution_count": 25,
     "metadata": {},
     "output_type": "execute_result"
    },
    {
     "data": {
      "image/png": "[encoded data removed]",
      "text/plain": [
       "<Figure size 432x288 with 2 Axes>"
      ]
     },
     "metadata": {
      "needs_background": "light"
     },
     "output_type": "display_data"
    }
   ],
   "source": [
    "hist.plot2d(h.integrate('species'), xaxis='x')"
   ]
  },
  {
   "cell_type": "markdown",
   "metadata": {},
   "source": [
    "Now we can play with the axes to learn some more<br>\n",
    "We can view the axes with `h.axes()`"
   ]
  },
  {
   "cell_type": "code",
   "execution_count": 26,
   "metadata": {},
   "outputs": [
    {
     "data": {
      "text/plain": [
       "(<Cat (name=species) instance at 0x7fd5126f2a30>,\n",
       " <Bin (name=x) instance at 0x7fd5126f2520>,\n",
       " <Bin (name=y) instance at 0x7fd5126e5820>)"
      ]
     },
     "execution_count": 26,
     "metadata": {},
     "output_type": "execute_result"
    }
   ],
   "source": [
    "h.axes()"
   ]
  },
  {
   "cell_type": "markdown",
   "metadata": {},
   "source": [
    "We can remove the `x`-axis by integrating it out with `integrate()`"
   ]
  },
  {
   "cell_type": "code",
   "execution_count": 27,
   "metadata": {},
   "outputs": [
    {
     "data": {
      "text/plain": [
       "{(): array([ 0.,  0.,  3., 24., 36., 36.,  3.,  0.,  0.,  0.])}"
      ]
     },
     "execution_count": 27,
     "metadata": {},
     "output_type": "execute_result"
    }
   ],
   "source": [
    "h.integrate('x').integrate('species').values()"
   ]
  },
  {
   "cell_type": "markdown",
   "metadata": {},
   "source": [
    "And now we can make a `1D` plot, in this case of `species` and `y coordinate`"
   ]
  },
  {
   "cell_type": "code",
   "execution_count": 28,
   "metadata": {},
   "outputs": [
    {
     "data": {
      "text/plain": [
       "<AxesSubplot:xlabel='y coordinate [m]', ylabel='Observed bird count'>"
      ]
     },
     "execution_count": 28,
     "metadata": {},
     "output_type": "execute_result"
    },
    {
     "data": {
      "image/png": "[encoded data removed]",
      "text/plain": [
       "<Figure size 432x288 with 1 Axes>"
      ]
     },
     "metadata": {
      "needs_background": "light"
     },
     "output_type": "display_data"
    }
   ],
   "source": [
    "hist.plot1d(h.integrate('x'), stack=True) #stack makes a stack plot"
   ]
  },
  {
   "cell_type": "markdown",
   "metadata": {},
   "source": [
    "## A more practical, physics example"
   ]
  },
  {
   "cell_type": "markdown",
   "metadata": {
    "slideshow": {
     "slide_type": "subslide"
    }
   },
   "source": [
    "In this example, I'll load a set of histograms from `histos/all2017mcsigsamples_skipSR_2022sept13_topcoffeatutorial.pkl.gz`<br>\n",
    "This is a pickle file created by TopCoffea"
   ]
  },
  {
   "cell_type": "markdown",
   "metadata": {
    "slideshow": {
     "slide_type": "slide"
    }
   },
   "source": [
    "First, let's import all the relevent packages (same as before, but here to make this section stand alone)"
   ]
  },
  {
   "cell_type": "code",
   "execution_count": 29,
   "metadata": {
    "slideshow": {
     "slide_type": "subslide"
    }
   },
   "outputs": [],
   "source": [
    "import pickle #read pickle file\n",
    "import coffea\n",
    "from coffea import hist\n",
    "import topcoffea.modules.HistEFT as HistEFT\n",
    "import topcoffea.modules.eft_helper as efth\n",
    "import gzip #read zipped pickle file\n",
    "import matplotlib.pyplot as plt #plot histograms\n",
    "import numpy as np"
   ]
  },
  {
   "cell_type": "markdown",
   "metadata": {
    "slideshow": {
     "slide_type": "slide"
    }
   },
   "source": [
    "Next, we'll open the pickle file, and load its histograms into a dictionary"
   ]
  },
  {
   "cell_type": "code",
   "execution_count": 30,
   "metadata": {
    "slideshow": {
     "slide_type": "subslide"
    }
   },
   "outputs": [
    {
     "name": "stdout",
     "output_type": "stream",
     "text": [
      "/bin/bash: /opt/conda/lib/libtinfo.so.6: no version information available (required by /bin/bash)\n",
      "/bin/bash: /opt/conda/lib/libtinfo.so.6: no version information available (required by /bin/bash)\n",
      "File ‘../histos/all2017mcsigsamples_skipSR_2022sept13_topcoffeatutorial.pkl.gz’ already there; not retrieving.\n",
      "<HistEFT (sample,channel,systematic,appl,invmass) instance at 0x7fd4fe99ec10>\n",
      "<HistEFT (sample,channel,systematic,appl,ptbl) instance at 0x7fd4fe92d910>\n",
      "<HistEFT (sample,channel,systematic,appl,ptz) instance at 0x7fd4fe93d400>\n",
      "<HistEFT (sample,channel,systematic,appl,njets) instance at 0x7fd4fe93d6a0>\n",
      "<HistEFT (sample,channel,systematic,appl,nbtagsl) instance at 0x7fd4fe94e0a0>\n",
      "<HistEFT (sample,channel,systematic,appl,l0pt) instance at 0x7fd4fe94eb50>\n",
      "<HistEFT (sample,channel,systematic,appl,l1pt) instance at 0x7fd51271fe20>\n",
      "<HistEFT (sample,channel,systematic,appl,l1eta) instance at 0x7fd4fe964f10>\n",
      "<HistEFT (sample,channel,systematic,appl,j0pt) instance at 0x7fd8dca85a00>\n",
      "<HistEFT (sample,channel,systematic,appl,b0pt) instance at 0x7fd8dca963d0>\n",
      "<HistEFT (sample,channel,systematic,appl,l0eta) instance at 0x7fd8dca96670>\n",
      "<HistEFT (sample,channel,systematic,appl,j0eta) instance at 0x7fd8dcaa2190>\n",
      "<HistEFT (sample,channel,systematic,appl,ht) instance at 0x7fd8dcaa2b20>\n",
      "<HistEFT (sample,channel,systematic,appl,met) instance at 0x7fd8dca3c610>\n",
      "<HistEFT (sample,channel,systematic,appl,ljptsum) instance at 0x7fd8dca4d100>\n",
      "<HistEFT (sample,channel,systematic,appl,o0pt) instance at 0x7fd8dca4dbb0>\n",
      "<HistEFT (sample,channel,systematic,appl,bl0pt) instance at 0x7fd8dca4de50>\n",
      "<HistEFT (sample,channel,systematic,appl,lj0pt) instance at 0x7fd8dca6f160>\n"
     ]
    }
   ],
   "source": [
    "#This only works in Jupyter notebooks. Run the wget command directly in the terminal otherwise\n",
    "!mkdir -p ../histos/\n",
    "!wget -nc https://www.crc.nd.edu/~abasnet/EFT/topcoffeaTutorial/all2017mcsigsamples_skipSR_2022sept13_topcoffeatutorial.pkl.gz -O ../histos/all2017mcsigsamples_skipSR_2022sept13_topcoffeatutorial.pkl.gz\n",
    "fin = '../histos/all2017mcsigsamples_skipSR_2022sept13_topcoffeatutorial.pkl.gz'\n",
    "hists = {} #dictionary of histograms\n",
    "with gzip.open(fin) as fin:\n",
    "  hin = pickle.load(fin)\n",
    "  for k in hin.keys():\n",
    "    if k in hists: hists[k]+=hin[k]\n",
    "    else:               hists[k]=hin[k]\n",
    "    print(hists[k])"
   ]
  },
  {
   "cell_type": "markdown",
   "metadata": {
    "slideshow": {
     "slide_type": "slide"
    }
   },
   "source": [
    "Now we'll grab the histogram for `njets`"
   ]
  },
  {
   "cell_type": "code",
   "execution_count": 31,
   "metadata": {
    "slideshow": {
     "slide_type": "subslide"
    }
   },
   "outputs": [],
   "source": [
    "h = hists['njets'] #load histogram of njets distribution"
   ]
  },
  {
   "cell_type": "markdown",
   "metadata": {
    "slideshow": {
     "slide_type": "slide"
    }
   },
   "source": [
    "Each histogram is a `N-D` collection of different categories"
   ]
  },
  {
   "cell_type": "code",
   "execution_count": 32,
   "metadata": {
    "slideshow": {
     "slide_type": "subslide"
    }
   },
   "outputs": [
    {
     "data": {
      "text/plain": [
       "(<Cat (name=sample) instance at 0x7fd4fe93d730>,\n",
       " <Cat (name=channel) instance at 0x7fd4fe93d9d0>,\n",
       " <Cat (name=systematic) instance at 0x7fd4fe93dc10>,\n",
       " <Cat (name=appl) instance at 0x7fd4fe93dcd0>,\n",
       " <Bin (name=njets) instance at 0x7fd4fe93df70>)"
      ]
     },
     "execution_count": 32,
     "metadata": {},
     "output_type": "execute_result"
    }
   ],
   "source": [
    "h.axes() #all axes in this version"
   ]
  },
  {
   "cell_type": "markdown",
   "metadata": {
    "slideshow": {
     "slide_type": "slide"
    }
   },
   "source": [
    "You can retrieve the histogram's bin contents with the `values()` method"
   ]
  },
  {
   "cell_type": "code",
   "execution_count": 33,
   "metadata": {
    "slideshow": {
     "slide_type": "subslide"
    }
   },
   "outputs": [
    {
     "name": "stdout",
     "output_type": "stream",
     "text": [
      "('ttlnuJet_privateUL17', '2lss_CRflip', 'nominal', 'isSR_2lSS') ...\n"
     ]
    }
   ],
   "source": [
    "h.values() #this is large, and Jupyter wants to show the whole thing\n",
    "print(list(h.values())[0],'...') #just print the first entry"
   ]
  },
  {
   "cell_type": "markdown",
   "metadata": {},
   "source": [
    "Using `identifiers()`, you can list different categories inside an axis."
   ]
  },
  {
   "cell_type": "code",
   "execution_count": 34,
   "metadata": {},
   "outputs": [
    {
     "data": {
      "text/plain": [
       "[<StringBin (isAR_2lOS) instance at 0x7fd4fe93dee0>,\n",
       " <StringBin (isAR_2lSS) instance at 0x7fd4fe93dd60>,\n",
       " <StringBin (isAR_3l) instance at 0x7fd4fe93de20>,\n",
       " <StringBin (isSR_2lOS) instance at 0x7fd4fe93de80>,\n",
       " <StringBin (isSR_2lSS) instance at 0x7fd4fe93dd00>,\n",
       " <StringBin (isSR_3l) instance at 0x7fd4fe93ddc0>]"
      ]
     },
     "execution_count": 34,
     "metadata": {},
     "output_type": "execute_result"
    }
   ],
   "source": [
    "h.axis('appl').identifiers()\n"
   ]
  },
  {
   "cell_type": "code",
   "execution_count": 35,
   "metadata": {},
   "outputs": [
    {
     "data": {
      "text/plain": [
       "[<StringBin (tHq_privateUL17) instance at 0x7fd4fe93d820>,\n",
       " <StringBin (tllq_privateUL17) instance at 0x7fd4fe93d7c0>,\n",
       " <StringBin (ttHJet_privateUL17) instance at 0x7fd4fe93d940>,\n",
       " <StringBin (ttllJet_privateUL17) instance at 0x7fd4fe93d8e0>,\n",
       " <StringBin (ttlnuJet_privateUL17) instance at 0x7fd4fe93d760>,\n",
       " <StringBin (tttt_privateUL17) instance at 0x7fd4fe93d880>]"
      ]
     },
     "execution_count": 35,
     "metadata": {},
     "output_type": "execute_result"
    }
   ],
   "source": [
    "h.axis('sample').identifiers()"
   ]
  },
  {
   "cell_type": "code",
   "execution_count": 36,
   "metadata": {},
   "outputs": [
    {
     "data": {
      "text/plain": [
       "[<StringBin (2los_CRZ) instance at 0x7fd4fe93db80>,\n",
       " <StringBin (2los_CRtt) instance at 0x7fd4fe93db20>,\n",
       " <StringBin (2lss_CR) instance at 0x7fd4fe93da60>,\n",
       " <StringBin (2lss_CRflip) instance at 0x7fd4fe93da00>,\n",
       " <StringBin (3l_CR) instance at 0x7fd4fe93dac0>]"
      ]
     },
     "execution_count": 36,
     "metadata": {},
     "output_type": "execute_result"
    }
   ],
   "source": [
    "h.axis('channel').identifiers()"
   ]
  },
  {
   "cell_type": "markdown",
   "metadata": {
    "slideshow": {
     "slide_type": "slide"
    }
   },
   "source": [
    "To select a specific label in a category we must use `integrate()` (the other option is `sum()` which combines all the lables in a category together)"
   ]
  },
  {
   "cell_type": "code",
   "execution_count": 37,
   "metadata": {},
   "outputs": [],
   "source": [
    "h = h.integrate('channel','2los_CRZ').integrate('systematic', 'nominal').integrate('appl','isSR_2lOS')"
   ]
  },
  {
   "cell_type": "markdown",
   "metadata": {
    "slideshow": {
     "slide_type": "slide"
    }
   },
   "source": [
    "We've now integrated outeverything but the type of samples:"
   ]
  },
  {
   "cell_type": "code",
   "execution_count": 38,
   "metadata": {},
   "outputs": [
    {
     "data": {
      "text/plain": [
       "{('ttlnuJet_privateUL17',): array([7.24126583e-06, 2.26134768e-05, 3.17111366e-05, 2.70135550e-05,\n",
       "        1.44257054e-05, 5.66668970e-06, 1.84879711e-06, 3.96467104e-07,\n",
       "        6.65797459e-08, 1.67598336e-10]),\n",
       " ('tllq_privateUL17',): array([2.14025890e-04, 7.49582242e-04, 1.13590226e-03, 9.16940973e-04,\n",
       "        4.28478067e-04, 1.34037636e-04, 3.32682209e-05, 7.31934914e-06,\n",
       "        1.39966348e-06, 2.58972332e-07]),\n",
       " ('tHq_privateUL17',): array([1.08561763e-06, 2.59711188e-06, 2.96098717e-06, 2.40996478e-06,\n",
       "        1.19712222e-06, 4.28392928e-07, 1.25171365e-07, 1.12900365e-08,\n",
       "        1.07765389e-09, 3.98886175e-11]),\n",
       " ('tttt_privateUL17',): array([0.00000000e+00, 5.27661633e-09, 2.55915149e-08, 9.10195887e-08,\n",
       "        9.01770983e-08, 1.76872700e-07, 7.32886143e-08, 7.91338670e-08,\n",
       "        9.90148937e-09, 5.05115578e-09]),\n",
       " ('ttllJet_privateUL17',): array([2.63031220e-05, 1.07781507e-04, 2.73189861e-04, 4.51997781e-04,\n",
       "        4.84822839e-04, 3.45322809e-04, 1.82332792e-04, 6.88319204e-05,\n",
       "        2.37325095e-05, 5.81303856e-06]),\n",
       " ('ttHJet_privateUL17',): array([1.24024945e-06, 5.78556112e-06, 1.48709339e-05, 1.80941474e-05,\n",
       "        1.56536308e-05, 9.24412332e-06, 4.80623679e-06, 1.93372596e-06,\n",
       "        6.18590632e-07, 9.72897496e-08])}"
      ]
     },
     "execution_count": 38,
     "metadata": {},
     "output_type": "execute_result"
    }
   ],
   "source": [
    "h.values()"
   ]
  },
  {
   "cell_type": "code",
   "execution_count": 39,
   "metadata": {},
   "outputs": [
    {
     "data": {
      "text/plain": [
       "(<Cat (name=sample) instance at 0x7fd4fe93d730>,\n",
       " <Bin (name=njets) instance at 0x7fd4fe93df70>)"
      ]
     },
     "execution_count": 39,
     "metadata": {},
     "output_type": "execute_result"
    }
   ],
   "source": [
    "h.axes()"
   ]
  },
  {
   "cell_type": "markdown",
   "metadata": {},
   "source": [
    "Let's create a plot to draw everthing in using matplotlib and the `plot1d()` method in `coffea.hist`"
   ]
  },
  {
   "cell_type": "code",
   "execution_count": 40,
   "metadata": {
    "slideshow": {
     "slide_type": "slide"
    }
   },
   "outputs": [
    {
     "data": {
      "text/plain": [
       "<AxesSubplot:xlabel='Jet multiplicity ', ylabel='Events'>"
      ]
     },
     "execution_count": 40,
     "metadata": {},
     "output_type": "execute_result"
    },
    {
     "data": {
      "image/png": "[encoded data removed]",
      "text/plain": [
       "<Figure size 504x504 with 1 Axes>"
      ]
     },
     "metadata": {
      "needs_background": "light"
     },
     "output_type": "display_data"
    }
   ],
   "source": [
    "fig, ax = plt.subplots(1,1, figsize=(7,7)) #create an axis for plotting\n",
    "hist.plot1d(h, stack=True)\n",
    "#fig.show() #not needed in Jupyter, but this draws the figure in the terminal"
   ]
  },
  {
   "cell_type": "markdown",
   "metadata": {
    "slideshow": {
     "slide_type": "slide"
    }
   },
   "source": [
    "# topcoffea.modules.HistEFT"
   ]
  },
  {
   "cell_type": "markdown",
   "metadata": {
    "slideshow": {
     "slide_type": "subslide"
    }
   },
   "source": [
    "I'll continue using the pkl file from above<br>\n",
    "Now we'll use methods that are unique to HistEFT (e.g. `set_wilson_coefficients()` to scale the Wilson Coefficient (WC) values)"
   ]
  },
  {
   "cell_type": "markdown",
   "metadata": {
    "slideshow": {
     "slide_type": "subslide"
    }
   },
   "source": [
    "The `HistEFT` class holds the structure constants ($S_0, S_{1j}, S_{2j},$ and $S_{3jk}$) we solved for when partins the EFT files, <br>\n",
    "so the event yields are just a function of the WCs ($\\vec{c}$):"
   ]
  },
  {
   "cell_type": "markdown",
   "metadata": {},
   "source": [
    "\\begin{equation}\n",
    "N\\left(\\dfrac{\\vec{c}}{\\Lambda^2}\\right) = S_0 + \\sum_j S_{1j} \\frac{c_j}{\\Lambda^2} + \\sum_j S_{2j} \\frac{c_j^2}{\\Lambda^4} + \\sum_{j,k} S_{3jk} \\frac{c_j}{\\Lambda^2} \\frac{c_k}{\\Lambda^2}\n",
    "\\end{equation}"
   ]
  },
  {
   "cell_type": "code",
   "execution_count": 41,
   "metadata": {},
   "outputs": [
    {
     "data": {
      "text/plain": [
       "26"
      ]
     },
     "execution_count": 41,
     "metadata": {},
     "output_type": "execute_result"
    }
   ],
   "source": [
    "h._nwc"
   ]
  },
  {
   "cell_type": "markdown",
   "metadata": {},
   "source": [
    "where `_nwc` is a local variable inside a HistEFT that stores how many WCs it contains<br>"
   ]
  },
  {
   "cell_type": "code",
   "execution_count": 42,
   "metadata": {},
   "outputs": [
    {
     "data": {
      "text/plain": [
       "['cpt',\n",
       " 'ctp',\n",
       " 'cptb',\n",
       " 'cQlMi',\n",
       " 'cQq81',\n",
       " 'cQq11',\n",
       " 'cQl3i',\n",
       " 'ctq8',\n",
       " 'ctlTi',\n",
       " 'ctq1',\n",
       " 'ctli',\n",
       " 'cQq13',\n",
       " 'cbW',\n",
       " 'cpQM',\n",
       " 'cpQ3',\n",
       " 'ctei',\n",
       " 'cQei',\n",
       " 'ctW',\n",
       " 'ctlSi',\n",
       " 'cQq83',\n",
       " 'ctZ',\n",
       " 'ctG',\n",
       " 'ctt1',\n",
       " 'cQt1',\n",
       " 'cQt8',\n",
       " 'cQQ1']"
      ]
     },
     "execution_count": 42,
     "metadata": {},
     "output_type": "execute_result"
    }
   ],
   "source": [
    "h._wcnames"
   ]
  },
  {
   "cell_type": "markdown",
   "metadata": {
    "slideshow": {
     "slide_type": "slide"
    }
   },
   "source": [
    "First, we'll scale the histogram to the SM (all `WCs=0`)"
   ]
  },
  {
   "cell_type": "code",
   "execution_count": 43,
   "metadata": {},
   "outputs": [],
   "source": [
    "h.set_sm()"
   ]
  },
  {
   "cell_type": "markdown",
   "metadata": {
    "slideshow": {
     "slide_type": "subslide"
    }
   },
   "source": [
    "The WCs are used whenever `values()` method is called"
   ]
  },
  {
   "cell_type": "code",
   "execution_count": 44,
   "metadata": {},
   "outputs": [
    {
     "data": {
      "text/plain": [
       "{('ttlnuJet_privateUL17',): array([7.24126583e-06, 2.26134768e-05, 3.17111366e-05, 2.70135550e-05,\n",
       "        1.44257054e-05, 5.66668970e-06, 1.84879711e-06, 3.96467104e-07,\n",
       "        6.65797459e-08, 1.67598336e-10]),\n",
       " ('tllq_privateUL17',): array([2.14025890e-04, 7.49582242e-04, 1.13590226e-03, 9.16940973e-04,\n",
       "        4.28478067e-04, 1.34037636e-04, 3.32682209e-05, 7.31934914e-06,\n",
       "        1.39966348e-06, 2.58972332e-07]),\n",
       " ('tHq_privateUL17',): array([1.08561763e-06, 2.59711188e-06, 2.96098717e-06, 2.40996478e-06,\n",
       "        1.19712222e-06, 4.28392928e-07, 1.25171365e-07, 1.12900365e-08,\n",
       "        1.07765389e-09, 3.98886175e-11]),\n",
       " ('tttt_privateUL17',): array([0.00000000e+00, 5.27661633e-09, 2.55915149e-08, 9.10195887e-08,\n",
       "        9.01770983e-08, 1.76872700e-07, 7.32886143e-08, 7.91338670e-08,\n",
       "        9.90148937e-09, 5.05115578e-09]),\n",
       " ('ttllJet_privateUL17',): array([2.63031220e-05, 1.07781507e-04, 2.73189861e-04, 4.51997781e-04,\n",
       "        4.84822839e-04, 3.45322809e-04, 1.82332792e-04, 6.88319204e-05,\n",
       "        2.37325095e-05, 5.81303856e-06]),\n",
       " ('ttHJet_privateUL17',): array([1.24024945e-06, 5.78556112e-06, 1.48709339e-05, 1.80941474e-05,\n",
       "        1.56536308e-05, 9.24412332e-06, 4.80623679e-06, 1.93372596e-06,\n",
       "        6.18590632e-07, 9.72897496e-08])}"
      ]
     },
     "execution_count": 44,
     "metadata": {},
     "output_type": "execute_result"
    }
   ],
   "source": [
    "h.values()"
   ]
  },
  {
   "cell_type": "code",
   "execution_count": 45,
   "metadata": {},
   "outputs": [
    {
     "data": {
      "text/plain": [
       "{('ttlnuJet_privateUL17',): array([0.00000000e+00, 7.24126583e-06, 2.26134768e-05, 3.17111366e-05,\n",
       "        2.70135550e-05, 1.44257054e-05, 5.66668970e-06, 1.84879711e-06,\n",
       "        3.96467104e-07, 6.65797459e-08, 1.67598336e-10, 3.18056996e-08,\n",
       "        0.00000000e+00]),\n",
       " ('tllq_privateUL17',): array([0.00000000e+00, 2.14025890e-04, 7.49582242e-04, 1.13590226e-03,\n",
       "        9.16940973e-04, 4.28478067e-04, 1.34037636e-04, 3.32682209e-05,\n",
       "        7.31934914e-06, 1.39966348e-06, 2.58972332e-07, 3.01484051e-08,\n",
       "        0.00000000e+00]),\n",
       " ('tHq_privateUL17',): array([0.00000000e+00, 1.08561763e-06, 2.59711188e-06, 2.96098717e-06,\n",
       "        2.40996478e-06, 1.19712222e-06, 4.28392928e-07, 1.25171365e-07,\n",
       "        1.12900365e-08, 1.07765389e-09, 3.98886175e-11, 0.00000000e+00,\n",
       "        0.00000000e+00]),\n",
       " ('tttt_privateUL17',): array([0.00000000e+00, 0.00000000e+00, 5.27661633e-09, 2.55915149e-08,\n",
       "        9.10195887e-08, 9.01770983e-08, 1.76872700e-07, 7.32886143e-08,\n",
       "        7.91338670e-08, 9.90148937e-09, 5.05115578e-09, 3.53682236e-09,\n",
       "        0.00000000e+00]),\n",
       " ('ttllJet_privateUL17',): array([0.00000000e+00, 2.63031220e-05, 1.07781507e-04, 2.73189861e-04,\n",
       "        4.51997781e-04, 4.84822839e-04, 3.45322809e-04, 1.82332792e-04,\n",
       "        6.88319204e-05, 2.37325095e-05, 5.81303856e-06, 1.91787136e-06,\n",
       "        0.00000000e+00]),\n",
       " ('ttHJet_privateUL17',): array([0.00000000e+00, 1.24024945e-06, 5.78556112e-06, 1.48709339e-05,\n",
       "        1.80941474e-05, 1.56536308e-05, 9.24412332e-06, 4.80623679e-06,\n",
       "        1.93372596e-06, 6.18590632e-07, 9.72897496e-08, 6.38369273e-08,\n",
       "        0.00000000e+00])}"
      ]
     },
     "execution_count": 45,
     "metadata": {},
     "output_type": "execute_result"
    }
   ],
   "source": [
    "h.values(overflow='allnan')"
   ]
  },
  {
   "cell_type": "markdown",
   "metadata": {
    "slideshow": {
     "slide_type": "slide"
    }
   },
   "source": [
    "Plotting this should look the same as before, since by default the WCs are 0"
   ]
  },
  {
   "cell_type": "code",
   "execution_count": 46,
   "metadata": {
    "slideshow": {
     "slide_type": "subslide"
    }
   },
   "outputs": [
    {
     "data": {
      "text/plain": [
       "<AxesSubplot:xlabel='Jet multiplicity ', ylabel='Events'>"
      ]
     },
     "execution_count": 46,
     "metadata": {},
     "output_type": "execute_result"
    },
    {
     "data": {
      "image/png": "[encoded data removed]",
      "text/plain": [
       "<Figure size 432x288 with 1 Axes>"
      ]
     },
     "metadata": {
      "needs_background": "light"
     },
     "output_type": "display_data"
    }
   ],
   "source": [
    "hist.plot1d(h, stack=True)"
   ]
  },
  {
   "cell_type": "markdown",
   "metadata": {
    "slideshow": {
     "slide_type": "slide"
    }
   },
   "source": [
    "Now let's set some of the WCs to 1 to see that things change"
   ]
  },
  {
   "cell_type": "code",
   "execution_count": 47,
   "metadata": {
    "tags": []
   },
   "outputs": [],
   "source": [
    "h.set_wilson_coefficients(cpQM=1, ctW=1, ctG=1)"
   ]
  },
  {
   "cell_type": "code",
   "execution_count": 48,
   "metadata": {},
   "outputs": [
    {
     "data": {
      "text/plain": [
       "{('ttlnuJet_privateUL17',): array([9.32804642e-06, 2.99073168e-05, 4.21980369e-05, 3.65192883e-05,\n",
       "        1.98799675e-05, 8.18453865e-06, 2.74014639e-06, 5.85606011e-07,\n",
       "        1.14386277e-07, 2.04792817e-10]),\n",
       " ('tllq_privateUL17',): array([2.36280620e-04, 8.30433648e-04, 1.28543981e-03, 1.05713359e-03,\n",
       "        5.08753212e-04, 1.66565361e-04, 4.44624007e-05, 1.03813232e-05,\n",
       "        1.99218863e-06, 3.68227492e-07]),\n",
       " ('tHq_privateUL17',): array([1.50595062e-06, 4.07397278e-06, 6.75194766e-06, 5.68913246e-06,\n",
       "        3.74377589e-06, 1.21915231e-06, 3.49411101e-07, 1.97530494e-07,\n",
       "        3.18250754e-08, 1.61851674e-09]),\n",
       " ('tttt_privateUL17',): array([0.00000000e+00, 7.69953367e-09, 4.01293731e-08, 1.50746221e-07,\n",
       "        1.78414335e-07, 2.98638955e-07, 1.22991633e-07, 1.28636022e-07,\n",
       "        1.79683004e-08, 9.22818653e-09]),\n",
       " ('ttllJet_privateUL17',): array([3.53712043e-05, 1.46960257e-04, 3.81308277e-04, 6.65156940e-04,\n",
       "        7.46145033e-04, 5.73133568e-04, 3.18408238e-04, 1.28537770e-04,\n",
       "        4.51959720e-05, 1.03707466e-05]),\n",
       " ('ttHJet_privateUL17',): array([7.19255196e-06, 1.74442108e-05, 3.77929306e-05, 6.53330308e-05,\n",
       "        5.60368457e-05, 2.97710099e-05, 1.83148596e-05, 5.44820059e-06,\n",
       "        2.11303489e-06, 4.39075817e-07])}"
      ]
     },
     "execution_count": 48,
     "metadata": {},
     "output_type": "execute_result"
    }
   ],
   "source": [
    "h.values()"
   ]
  },
  {
   "cell_type": "code",
   "execution_count": 49,
   "metadata": {
    "slideshow": {
     "slide_type": "subslide"
    },
    "tags": []
   },
   "outputs": [
    {
     "data": {
      "text/plain": [
       "<AxesSubplot:xlabel='Jet multiplicity ', ylabel='Events'>"
      ]
     },
     "execution_count": 49,
     "metadata": {},
     "output_type": "execute_result"
    },
    {
     "data": {
      "image/png": "[encoded data removed]",
      "text/plain": [
       "<Figure size 432x288 with 1 Axes>"
      ]
     },
     "metadata": {
      "needs_background": "light"
     },
     "output_type": "display_data"
    }
   ],
   "source": [
    "hist.plot1d(h, stack=True)"
   ]
  },
  {
   "cell_type": "markdown",
   "metadata": {
    "slideshow": {
     "slide_type": "slide"
    },
    "tags": []
   },
   "source": [
    "There's one last thing we must due in order to produce the predicted event yields.<br>\n",
    "The EFT samples come normalized to $\\sigma * w_{\\mathrm{gen}}$<br>\n",
    "In order to produce event yields, we must scale them by $\\frac{\\mathcal{L}}{\\sum{w_{\\mathrm{event}}^{\\mathrm{SM}}}}$ , where $\\sum{w_{\\mathrm{event}}^{\\mathrm{SM}}}$ is the sum of the event weights, evaluated at the SM. When we run the topcoffea processor to make our pkl file, this scaling with $\\sum{w_{\\mathrm{event}}^{\\mathrm{SM}}}$ is already done. We just need to scale by lumi. "
   ]
  },
  {
   "cell_type": "code",
   "execution_count": 50,
   "metadata": {},
   "outputs": [
    {
     "name": "stdout",
     "output_type": "stream",
     "text": [
      "Scaling by 41480.0\n"
     ]
    }
   ],
   "source": [
    "h.set_sm()    #set WCs to be SM values to be safe\n",
    "wgt = 1000*41.48 #multiply 1000 for units \n",
    "print('Scaling by', wgt)\n",
    "h.scale(wgt) #2017 lumi of 41.48 fb^-1"
   ]
  },
  {
   "cell_type": "code",
   "execution_count": 51,
   "metadata": {
    "slideshow": {
     "slide_type": "subslide"
    }
   },
   "outputs": [
    {
     "data": {
      "image/png": "[encoded data removed]",
      "text/plain": [
       "<Figure size 720x720 with 1 Axes>"
      ]
     },
     "metadata": {
      "needs_background": "light"
     },
     "output_type": "display_data"
    }
   ],
   "source": [
    "import mplhep as hep\n",
    "hep.style.use(\"CMS\")\n",
    "\n",
    "fig, ax = plt.subplots(1,1) #create an axis for plotting\n",
    "hist.plot1d(h, ax=ax, stack=True)\n",
    "ax.legend()\n",
    "\n",
    "# add some labels\n",
    "lumi = hep.cms.label(ax=ax, lumi='41.48', label=\"Preliminary\")"
   ]
  },
  {
   "cell_type": "code",
   "execution_count": null,
   "metadata": {},
   "outputs": [],
   "source": []
  }
 ],
 "metadata": {
  "kernelspec": {
   "display_name": "Python 3 (ipykernel)",
   "language": "python",
   "name": "python3"
  },
  "language_info": {
   "codemirror_mode": {
    "name": "ipython",
    "version": 3
   },
   "file_extension": ".py",
   "mimetype": "text/x-python",
   "name": "python",
   "nbconvert_exporter": "python",
   "pygments_lexer": "ipython3",
   "version": "3.8.13"
  }
 },
 "nbformat": 4,
 "nbformat_minor": 4
}
