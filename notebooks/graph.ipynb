{
 "cells": [
  {
   "cell_type": "code",
   "execution_count": 4,
   "metadata": {},
   "outputs": [
    {
     "name": "stdout",
     "output_type": "stream",
     "text": [
      "Opening path:  histos/plotsTopEFT.pkl.gz\n",
      " >> looking for histograms...\n",
      "Output histogram saved in temp.png\n"
     ]
    },
    {
     "data": {
      "image/png": "[encoded data removed]",
      "text/plain": [
       "<Figure size 1008x504 with 2 Axes>"
      ]
     },
     "metadata": {
      "needs_background": "light"
     },
     "output_type": "display_data"
    }
   ],
   "source": [
    "from __future__ import print_function, division\n",
    "from collections import defaultdict, OrderedDict\n",
    "import gzip\n",
    "import pickle\n",
    "import json\n",
    "import os\n",
    "import uproot\n",
    "import matplotlib.pyplot as plt\n",
    "import numpy as np\n",
    "from coffea import hist, processor\n",
    "from coffea.hist import plot\n",
    "from cycler import cycler\n",
    "\n",
    "import sys\n",
    "sys.path.append('..')\n",
    "\n",
    "from topcoffea.plotter.OutText import OutText\n",
    "\n",
    "\n",
    "path = 'histos/plotsTopEFT.pkl.gz'\n",
    "outname = 'temp.png'\n",
    "\n",
    "# Select variable, channel and cuts\n",
    "var = 'met'\n",
    "channel = ['eemSSonZ', 'eemSSoffZ', 'mmeSSonZ', 'mmeSSoffZ','eeeSSonZ', 'eeeSSoffZ', 'mmmSSonZ', 'mmmSSoffZ']\n",
    "cut = 'base'\n",
    "\n",
    "print('Opening path: ', path)\n",
    "hists = {}\n",
    "with gzip.open(path) as fin:\n",
    "  hin = pickle.load(fin)\n",
    "  print(' >> looking for histograms...')\n",
    "  for k in hin.keys():\n",
    "    if k in hists: hists[k]+=hin[k]\n",
    "    else:          hists[k]=hin[k]\n",
    "\n",
    "\n",
    "# Create figure\n",
    "fig, (ax, rax) = plt.subplots(2, 1, figsize=(14,7), gridspec_kw={\"height_ratios\": (3, 1)}, sharex=True)\n",
    "plt.subplots_adjust(left=0.1, bottom=0.1, right=0.9, top=0.9)\n",
    "\n",
    "# Select the histogram var, channel and cut\n",
    "h = hists[var]\n",
    "h = h.integrate('channel', channel)\n",
    "h = h.integrate('cut', cut)\n",
    "\n",
    "# Integrate over samples\n",
    "h = h.sum('sample')\n",
    " \n",
    "# Plot and save figure to outname\n",
    "hist.plot1d(h, ax=ax, line_opts={'color':'orange'})\n",
    "fig.savefig(outname)\n",
    "print('Output histogram saved in %s'%outname)"
   ]
  },
  {
   "cell_type": "code",
   "execution_count": null,
   "metadata": {},
   "outputs": [],
   "source": []
  }
 ],
 "metadata": {
  "kernelspec": {
   "display_name": "Python 3",
   "language": "python",
   "name": "python3"
  },
  "language_info": {
   "codemirror_mode": {
    "name": "ipython",
    "version": 3
   },
   "file_extension": ".py",
   "mimetype": "text/x-python",
   "name": "python",
   "nbconvert_exporter": "python",
   "pygments_lexer": "ipython3",
   "version": "3.8.5"
  }
 },
 "nbformat": 4,
 "nbformat_minor": 4
}
