{
 "cells": [
  {
   "cell_type": "code",
   "execution_count": 1,
   "metadata": {},
   "outputs": [],
   "source": [
    "import lz4.frame as lz4f\n",
    "import pickle\n",
    "import json\n",
    "import time\n",
    "import cloudpickle\n",
    "import gzip\n",
    "import os\n",
    "from optparse import OptionParser\n",
    "\n",
    "import uproot\n",
    "import numpy as np\n",
    "from coffea import hist, processor\n",
    "from coffea.util import load, save\n",
    "\n",
    "import sys\n",
    "sys.path.append('./analysis/topEFT')\n",
    "\n",
    "import topeft\n",
    "from topcoffea.modules import samples\n",
    "from topcoffea.modules.fileReader import GetFiles, GetAllInfoFromFile\n",
    "outname = 'plotsTopEFT'\n",
    "\n",
    "nworkers = 8"
   ]
  },
  {
   "cell_type": "code",
   "execution_count": 2,
   "metadata": {},
   "outputs": [],
   "source": [
    "cfgfile=('cfg/samples.cfg')"
   ]
  },
  {
   "cell_type": "code",
   "execution_count": 3,
   "metadata": {},
   "outputs": [],
   "source": [
    "#change place\n",
    "fileset = {'Temp' : [\"root://hcc-stash.unl.edu:1094//osgconnect/public/dweitzel/coffea-casa/38E83594-51BD-7D46-B96D-620DD60078A7.root\"]}"
   ]
  },
  {
   "cell_type": "code",
   "execution_count": 4,
   "metadata": {},
   "outputs": [],
   "source": [
    "path = fileset['Temp'][0]"
   ]
  },
  {
   "cell_type": "code",
   "execution_count": 5,
   "metadata": {},
   "outputs": [
    {
     "data": {
      "text/plain": [
       "'root://hcc-stash.unl.edu:1094//osgconnect/public/dweitzel/coffea-casa/38E83594-51BD-7D46-B96D-620DD60078A7.root'"
      ]
     },
     "execution_count": 5,
     "metadata": {},
     "output_type": "execute_result"
    }
   ],
   "source": [
    "path"
   ]
  },
  {
   "cell_type": "code",
   "execution_count": 6,
   "metadata": {},
   "outputs": [],
   "source": [
    "def GetOptions(path, sample, options = \"\"):\n",
    "  if not path.endswith('/'): path += '/'\n",
    "  if not sample.endswith(\".root\"): sample += '.root'\n",
    "  #doPUweight  = 'PUweight,' if IsVarInTree(path+sample, 'puWeight') else ''\n",
    "  #doJECunc    = 'JECunc,'   if IsVarInTree(path+sample, 'Jet_pt_jesTotalUp') else ''\n",
    "  #doIFSR      = 'doIFSR,'   if IsVarInTree(path+sample, 'nPSWeight') and GetValOfVarInTree(path+sample, 'nPSWeight') == 4 else ''\n",
    "  #useJetPtNom = 'JetPtNom,' if IsVarInTree(path+sample, 'Jet_pt_nom') else ''\n",
    "  #options += doPUweight + doJECunc + doIFSR + useJetPtNom + options\n",
    "  if options.endswith(','): options = options[:-1]\n",
    "  return options"
   ]
  },
  {
   "cell_type": "code",
   "execution_count": 7,
   "metadata": {},
   "outputs": [],
   "source": [
    "#rewritten from topcoffea/topcoffea/modules/samples.py\n",
    "def getdictionary(cfgfile, pretend=1,test=1,verbose=1,path='',sample='',xsec='xsec',year=-1,options='',treeName='Events'):\n",
    "    samplefiles = {}\n",
    "    fileopt = {}\n",
    "    xsecdic = {}\n",
    "    sampdic = {}\n",
    "    f = open(cfgfile)\n",
    "    lines = f.readlines()\n",
    "    for l in lines:\n",
    "        l = l.replace(' ', '')\n",
    "        l = l.replace('\\n', '')\n",
    "        if l.startswith('#'): \n",
    "            continue\n",
    "        if '#' in l: l = l.split('#')[0]\n",
    "        if l == '': continue\n",
    "        if l.endswith(':'): l = l[:-1]\n",
    "        if not ':' in l:\n",
    "            if l in ['path', 'verbose', 'pretend', 'test', 'options', 'xsec', 'year', 'treeName']: continue\n",
    "            else: samplefiles[l]=l\n",
    "        else:\n",
    "            lst = l.split(':')\n",
    "            key = lst[0]\n",
    "            val = lst[1] if lst[1] != '' else lst[0]\n",
    "            if   key == 'pretend'   : pretend   = 1\n",
    "            elif key == 'verbose'   : verbose   = int(val) if val.isdigit() else 1\n",
    "            elif key == 'test'      : dotest    = 1\n",
    "            elif key == 'path'      :\n",
    "                path = val\n",
    "                if len(lst) > 2: \n",
    "                    for v in lst[2:]: path += ':'+v\n",
    "            elif key == 'options'   : options   = val\n",
    "            elif key == 'xsec'      : xsec      = val\n",
    "            elif key == 'year'      : year      = int(val)\n",
    "            elif key == 'treeName'  : treeName  = val\n",
    "            else:\n",
    "                fileopt[key] = options\n",
    "                if len(lst) >= 3: fileopt[key] += lst[2]\n",
    "                samplefiles[key] = val\n",
    "    for sname in samplefiles.keys():\n",
    "        sampdic[sname] = {}\n",
    "        #sampdic[sname]['files']      = GetFiles(path, samplefiles[sname])\n",
    "        sampdic[sname]['files']      = path\n",
    "        extraOption = GetOptions(path, sampdic[sname]['files'][0].split('/')[-1])\n",
    "        sampdic[sname]['options']    = fileopt[sname] + ', ' + extraOption\n",
    "        sampdic[sname]['xsec']       = xsecdic[sname] if sname in xsecdic.keys() else 1\n",
    "        sampdic[sname]['year']       = year\n",
    "        sampdic[sname]['treeName']   = treeName\n",
    "        nEvents, nGenEvents, nSumOfWeights, isData = GetAllInfoFromFile(sampdic[sname]['files'], sampdic[sname]['treeName'])\n",
    "        sampdic[sname]['nEvents']       = nEvents\n",
    "        sampdic[sname]['nGenEvents']    = nGenEvents\n",
    "        sampdic[sname]['nSumOfWeights'] = nSumOfWeights\n",
    "        sampdic[sname]['isData']        = isData        \n",
    "    return(sampdic)\n",
    "\n",
    "#   skipping this, not sure if important\n",
    "#   Re-assign arguments...\n",
    "#   aarg = sys.argv\n",
    "#   if '--pretend' in aarg or '-p' in aarg : pretend     = args.pretend\n",
    "#   if '--test'    in aarg or '-t' in aarg : dotest      = args.test\n",
    "#   if args.path       != ''       : path        = args.path\n",
    "#   if args.options    != ''       : options     = args.options\n",
    "#   if args.xsec       != 'xsec'   : xsec        = args.xsec\n",
    "#   if args.year       != -1       : year        = args.year\n",
    "#   if args.treeName   != 'Events' : treeName    = args.treeName\n",
    "#   if args.verbose    != 0        : verbose     = int(args.verbose)\n",
    "#   xsecdic = loadxsecdic(xsec, verbose)\n"
   ]
  },
  {
   "cell_type": "code",
   "execution_count": 8,
   "metadata": {},
   "outputs": [],
   "source": [
    "samplesdict = getdictionary(cfgfile,path=path)"
   ]
  },
  {
   "cell_type": "code",
   "execution_count": 9,
   "metadata": {},
   "outputs": [],
   "source": [
    "flist = {}; xsec = {}; sow = {}; isData = {}\n",
    "for k in samplesdict.keys():\n",
    "    flist[k] = [samplesdict[k]['files']]\n",
    "    xsec[k]  = samplesdict[k]['xsec']\n",
    "    sow[k]   = samplesdict[k]['nSumOfWeights']\n",
    "    isData[k]= samplesdict[k]['isData']"
   ]
  },
  {
   "cell_type": "code",
   "execution_count": 10,
   "metadata": {},
   "outputs": [],
   "source": [
    "processor_instance = topeft.AnalysisProcessor(samplesdict)"
   ]
  },
  {
   "cell_type": "code",
   "execution_count": 11,
   "metadata": {},
   "outputs": [
    {
     "data": {
      "text/plain": [
       "{'DYJetsToLL_M_10to50': ['root://hcc-stash.unl.edu:1094//osgconnect/public/dweitzel/coffea-casa/38E83594-51BD-7D46-B96D-620DD60078A7.root'],\n",
       " 'ZZTo2L2Nu': ['root://hcc-stash.unl.edu:1094//osgconnect/public/dweitzel/coffea-casa/38E83594-51BD-7D46-B96D-620DD60078A7.root'],\n",
       " 'ZZTo4L': ['root://hcc-stash.unl.edu:1094//osgconnect/public/dweitzel/coffea-casa/38E83594-51BD-7D46-B96D-620DD60078A7.root'],\n",
       " 'WZTo3LNU': ['root://hcc-stash.unl.edu:1094//osgconnect/public/dweitzel/coffea-casa/38E83594-51BD-7D46-B96D-620DD60078A7.root'],\n",
       " 'WWTo2L2Nu': ['root://hcc-stash.unl.edu:1094//osgconnect/public/dweitzel/coffea-casa/38E83594-51BD-7D46-B96D-620DD60078A7.root'],\n",
       " 'tW_noFullHad': ['root://hcc-stash.unl.edu:1094//osgconnect/public/dweitzel/coffea-casa/38E83594-51BD-7D46-B96D-620DD60078A7.root'],\n",
       " 'tbarW_noFullHad': ['root://hcc-stash.unl.edu:1094//osgconnect/public/dweitzel/coffea-casa/38E83594-51BD-7D46-B96D-620DD60078A7.root'],\n",
       " 'TT': ['root://hcc-stash.unl.edu:1094//osgconnect/public/dweitzel/coffea-casa/38E83594-51BD-7D46-B96D-620DD60078A7.root'],\n",
       " 'TTsemilep': ['root://hcc-stash.unl.edu:1094//osgconnect/public/dweitzel/coffea-casa/38E83594-51BD-7D46-B96D-620DD60078A7.root']}"
      ]
     },
     "execution_count": 11,
     "metadata": {},
     "output_type": "execute_result"
    }
   ],
   "source": [
    "flist"
   ]
  },
  {
   "cell_type": "code",
   "execution_count": 13,
   "metadata": {},
   "outputs": [
    {
     "data": {
      "text/plain": [
       "{'DYJetsToLL_M_10to50': {'files': 'root://hcc-stash.unl.edu:1094//osgconnect/public/dweitzel/coffea-casa/38E83594-51BD-7D46-B96D-620DD60078A7.root',\n",
       "  'options': ', ',\n",
       "  'xsec': 1,\n",
       "  'year': -1,\n",
       "  'treeName': 'Events',\n",
       "  'nEvents': 614400,\n",
       "  'nGenEvents': 614400.0,\n",
       "  'nSumOfWeights': 614400,\n",
       "  'isData': False},\n",
       " 'ZZTo2L2Nu': {'files': 'root://hcc-stash.unl.edu:1094//osgconnect/public/dweitzel/coffea-casa/38E83594-51BD-7D46-B96D-620DD60078A7.root',\n",
       "  'options': ', ',\n",
       "  'xsec': 1,\n",
       "  'year': -1,\n",
       "  'treeName': 'Events',\n",
       "  'nEvents': 614400,\n",
       "  'nGenEvents': 614400.0,\n",
       "  'nSumOfWeights': 614400,\n",
       "  'isData': False},\n",
       " 'ZZTo4L': {'files': 'root://hcc-stash.unl.edu:1094//osgconnect/public/dweitzel/coffea-casa/38E83594-51BD-7D46-B96D-620DD60078A7.root',\n",
       "  'options': ', ',\n",
       "  'xsec': 1,\n",
       "  'year': -1,\n",
       "  'treeName': 'Events',\n",
       "  'nEvents': 614400,\n",
       "  'nGenEvents': 614400.0,\n",
       "  'nSumOfWeights': 614400,\n",
       "  'isData': False},\n",
       " 'WZTo3LNU': {'files': 'root://hcc-stash.unl.edu:1094//osgconnect/public/dweitzel/coffea-casa/38E83594-51BD-7D46-B96D-620DD60078A7.root',\n",
       "  'options': ', ',\n",
       "  'xsec': 1,\n",
       "  'year': -1,\n",
       "  'treeName': 'Events',\n",
       "  'nEvents': 614400,\n",
       "  'nGenEvents': 614400.0,\n",
       "  'nSumOfWeights': 614400,\n",
       "  'isData': False},\n",
       " 'WWTo2L2Nu': {'files': 'root://hcc-stash.unl.edu:1094//osgconnect/public/dweitzel/coffea-casa/38E83594-51BD-7D46-B96D-620DD60078A7.root',\n",
       "  'options': ', ',\n",
       "  'xsec': 1,\n",
       "  'year': -1,\n",
       "  'treeName': 'Events',\n",
       "  'nEvents': 614400,\n",
       "  'nGenEvents': 614400.0,\n",
       "  'nSumOfWeights': 614400,\n",
       "  'isData': False},\n",
       " 'tW_noFullHad': {'files': 'root://hcc-stash.unl.edu:1094//osgconnect/public/dweitzel/coffea-casa/38E83594-51BD-7D46-B96D-620DD60078A7.root',\n",
       "  'options': ', ',\n",
       "  'xsec': 1,\n",
       "  'year': -1,\n",
       "  'treeName': 'Events',\n",
       "  'nEvents': 614400,\n",
       "  'nGenEvents': 614400.0,\n",
       "  'nSumOfWeights': 614400,\n",
       "  'isData': False},\n",
       " 'tbarW_noFullHad': {'files': 'root://hcc-stash.unl.edu:1094//osgconnect/public/dweitzel/coffea-casa/38E83594-51BD-7D46-B96D-620DD60078A7.root',\n",
       "  'options': ', ',\n",
       "  'xsec': 1,\n",
       "  'year': -1,\n",
       "  'treeName': 'Events',\n",
       "  'nEvents': 614400,\n",
       "  'nGenEvents': 614400.0,\n",
       "  'nSumOfWeights': 614400,\n",
       "  'isData': False},\n",
       " 'TT': {'files': 'root://hcc-stash.unl.edu:1094//osgconnect/public/dweitzel/coffea-casa/38E83594-51BD-7D46-B96D-620DD60078A7.root',\n",
       "  'options': ', ',\n",
       "  'xsec': 1,\n",
       "  'year': -1,\n",
       "  'treeName': 'Events',\n",
       "  'nEvents': 614400,\n",
       "  'nGenEvents': 614400.0,\n",
       "  'nSumOfWeights': 614400,\n",
       "  'isData': False},\n",
       " 'TTsemilep': {'files': 'root://hcc-stash.unl.edu:1094//osgconnect/public/dweitzel/coffea-casa/38E83594-51BD-7D46-B96D-620DD60078A7.root',\n",
       "  'options': ', ',\n",
       "  'xsec': 1,\n",
       "  'year': -1,\n",
       "  'treeName': 'Events',\n",
       "  'nEvents': 614400,\n",
       "  'nGenEvents': 614400.0,\n",
       "  'nSumOfWeights': 614400,\n",
       "  'isData': False}}"
      ]
     },
     "execution_count": 13,
     "metadata": {},
     "output_type": "execute_result"
    }
   ],
   "source": [
    "samplesdict"
   ]
  },
  {
   "cell_type": "code",
   "execution_count": null,
   "metadata": {},
   "outputs": [
    {
     "data": {
      "application/vnd.jupyter.widget-view+json": {
       "model_id": "f656d6f150c64926a8e753a4f05202cc",
       "version_major": 2,
       "version_minor": 0
      },
      "text/plain": [
       "HBox(children=(HTML(value='Preprocessing'), FloatProgress(value=0.0, max=1.0), HTML(value='')))"
      ]
     },
     "metadata": {},
     "output_type": "display_data"
    },
    {
     "name": "stdout",
     "output_type": "stream",
     "text": [
      "\n"
     ]
    },
    {
     "data": {
      "application/vnd.jupyter.widget-view+json": {
       "model_id": "e3be950e7fd84d099d294ae1366398f5",
       "version_major": 2,
       "version_minor": 0
      },
      "text/plain": [
       "HBox(children=(HTML(value='Processing'), FloatProgress(value=0.0, max=9.0), HTML(value='')))"
      ]
     },
     "metadata": {},
     "output_type": "display_data"
    },
    {
     "name": "stderr",
     "output_type": "stream",
     "text": [
      "/opt/conda/lib/python3.8/site-packages/coffea/util.py:98: Awkward0Warning: In coffea version 0.7 (target date: January 2021), this will be an error.\n",
      "(Set awkward1.deprecations_as_errors = True to get a stack trace now.)\n",
      "TypeError: <class 'coffea.nanoaod.nanoevents.NanoEvents'> relies exclusively on awkward 0.x and will be removed in upcoming versions of coffea!\n",
      "  warnings.warn(message, Awkward0Warning)\n",
      "/opt/conda/lib/python3.8/site-packages/coffea/util.py:98: Awkward0Warning: In coffea version 0.7 (target date: January 2021), this will be an error.\n",
      "(Set awkward1.deprecations_as_errors = True to get a stack trace now.)\n",
      "TypeError: <class 'coffea.nanoaod.nanoevents.NanoCollection'> relies exclusively on awkward 0.x and will be removed in upcoming versions of coffea!\n",
      "  warnings.warn(message, Awkward0Warning)\n"
     ]
    },
    {
     "name": "stdout",
     "output_type": "stream",
     "text": [
      "\n"
     ]
    }
   ],
   "source": [
    "# Run the processor and get the output\n",
    "tstart = time.time()\n",
    "#output = processor.run_uproot_job(flist, treename='Events', processor_instance=processor_instance, executor=processor.futures_executor, executor_args={'workers': nworkers, 'pre_workers': 1}, chunksize=500000)\n",
    "#output = processor.run_uproot_job(flist, treename='Events', processor_instance=processor_instance, executor=processor.futures_executor, executor_args={'nano':True,'workers': nworkers, 'pre_workers': 1}, chunksize=500000)\n",
    "output = processor.run_uproot_job(flist, treename='Events', processor_instance=processor_instance, executor=processor.futures_executor, executor_args={'nano':True}, chunksize=500000)\n",
    "\n",
    "dt = time.time() - tstart\n",
    "\n",
    "nbins = sum(sum(arr.size for arr in h._sumw.values()) for h in output.values() if isinstance(h, hist.Hist))\n",
    "nfilled = sum(sum(np.sum(arr > 0) for arr in h._sumw.values()) for h in output.values() if isinstance(h, hist.Hist))\n",
    "print(\"Filled %.0f bins, nonzero bins: %1.1f %%\" % (nbins, 100*nfilled/nbins,))\n",
    "print(\"Processing time: %1.2f s with %i workers (%.2f s cpu overall)\" % (dt, nworkers, dt*nworkers, ))\n",
    "\n",
    "# This is taken from the DM photon analysis...\n",
    "# Pickle is not very fast or memory efficient, will be replaced by something better soon\n",
    "#    with lz4f.open(\"pods/\"+options.year+\"/\"+dataset+\".pkl.gz\", mode=\"xb\", compression_level=5) as fout:\n",
    "os.system(\"mkdir -p histos/\")\n",
    "print('Saving output in %s...'%(\"histos/\" + outname + \".pkl.gz\"))\n",
    "with gzip.open(\"histos/\" + outname + \".pkl.gz\", \"wb\") as fout:\n",
    "    cloudpickle.dump(output, fout)\n",
    "print('Done!')\n",
    "\n"
   ]
  },
  {
   "cell_type": "code",
   "execution_count": null,
   "metadata": {},
   "outputs": [],
   "source": []
  }
 ],
 "metadata": {
  "kernelspec": {
   "display_name": "Python 3",
   "language": "python",
   "name": "python3"
  },
  "language_info": {
   "codemirror_mode": {
    "name": "ipython",
    "version": 3
   },
   "file_extension": ".py",
   "mimetype": "text/x-python",
   "name": "python",
   "nbconvert_exporter": "python",
   "pygments_lexer": "ipython3",
   "version": "3.8.5"
  }
 },
 "nbformat": 4,
 "nbformat_minor": 4
}
