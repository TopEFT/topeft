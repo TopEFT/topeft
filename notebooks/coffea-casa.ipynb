{
 "cells": [
  {
   "cell_type": "code",
   "execution_count": 1,
   "metadata": {},
   "outputs": [],
   "source": [
    "import lz4.frame as lz4f\n",
    "import pickle\n",
    "import json\n",
    "import time\n",
    "import cloudpickle\n",
    "import gzip\n",
    "import os\n",
    "from optparse import OptionParser\n",
    "\n",
    "import uproot\n",
    "import numpy as np\n",
    "from coffea import hist, processor\n",
    "from coffea.util import load, save\n",
    "import coffea # Using coffea version 0.6.50\n",
    "\n",
    "import sys\n",
    "sys.path.append('../analysis/topEFT')\n",
    "sys.path.append('../')\n",
    "import topeft\n",
    "from topcoffea.modules import samples\n",
    "from topcoffea.modules.fileReader import GetFiles, GetAllInfoFromFile\n",
    "outname = 'plotsTopEFT'\n",
    "\n",
    "nworkers = 10"
   ]
  },
  {
   "cell_type": "code",
   "execution_count": 15,
   "metadata": {},
   "outputs": [],
   "source": [
    "#pip install 'coffea==0.6.50'"
   ]
  },
  {
   "cell_type": "code",
   "execution_count": 2,
   "metadata": {},
   "outputs": [],
   "source": [
    "cfgfile=('../cfg/samples.cfg')"
   ]
  },
  {
   "cell_type": "code",
   "execution_count": 3,
   "metadata": {},
   "outputs": [],
   "source": [
    "#Temporary file for testing\n",
    "path = \"root://xcache//store/user/jrgonzal/nanoAODttH/8F38C0F2-E7A7-C846-BBF5-0C040E6BA839.root\""
   ]
  },
  {
   "cell_type": "code",
   "execution_count": 4,
   "metadata": {},
   "outputs": [],
   "source": [
    "def GetOptions(path, sample, options = \"\"):\n",
    "    if not path.endswith('/'): path += '/'\n",
    "    if not sample.endswith(\".root\"): sample += '.root'\n",
    "  #doPUweight  = 'PUweight,' if IsVarInTree(path+sample, 'puWeight') else ''\n",
    "  #doJECunc    = 'JECunc,'   if IsVarInTree(path+sample, 'Jet_pt_jesTotalUp') else ''\n",
    "  #doIFSR      = 'doIFSR,'   if IsVarInTree(path+sample, 'nPSWeight') and GetValOfVarInTree(path+sample, 'nPSWeight') == 4 else ''\n",
    "  #useJetPtNom = 'JetPtNom,' if IsVarInTree(path+sample, 'Jet_pt_nom') else ''\n",
    "  #options += doPUweight + doJECunc + doIFSR + useJetPtNom + options\n",
    "    if options.endswith(','): options = options[:-1]\n",
    "    return options"
   ]
  },
  {
   "cell_type": "code",
   "execution_count": 5,
   "metadata": {},
   "outputs": [],
   "source": [
    "# Rewritten from topcoffea/topcoffea/modules/samples.py\n",
    "def getdictionary(cfgfile, pretend=1,test=1,verbose=1,path='',sample='',xsec='xsec',year=-1,options='',treeName='Events'):\n",
    "    samplefiles = {}\n",
    "    fileopt = {}\n",
    "    xsecdic = {}\n",
    "    sampdic = {}\n",
    "    f = open(cfgfile)\n",
    "    lines = f.readlines()\n",
    "    for l in lines:\n",
    "        l = l.replace(' ', '')\n",
    "        l = l.replace('\\n', '')\n",
    "        if l.startswith('#'): \n",
    "            continue\n",
    "        if '#' in l: l = l.split('#')[0]\n",
    "        if l == '': continue\n",
    "        if l.endswith(':'): l = l[:-1]\n",
    "        if not ':' in l:\n",
    "            if l in ['path', 'verbose', 'pretend', 'test', 'options', 'xsec', 'year', 'treeName']: continue\n",
    "            else: samplefiles[l]=l\n",
    "        else:\n",
    "            lst = l.split(':')\n",
    "            key = lst[0]\n",
    "            val = lst[1] if lst[1] != '' else lst[0]\n",
    "            if   key == 'pretend'   : pretend   = 1\n",
    "            elif key == 'verbose'   : verbose   = int(val) if val.isdigit() else 1\n",
    "            elif key == 'test'      : dotest    = 1\n",
    "            elif key == 'path'      :\n",
    "                path = val\n",
    "                if len(lst) > 2: \n",
    "                    for v in lst[2:]: path += ':'+v\n",
    "            elif key == 'options'   : options   = val\n",
    "            elif key == 'xsec'      : xsec      = val\n",
    "            elif key == 'year'      : year      = int(val)\n",
    "            elif key == 'treeName'  : treeName  = val\n",
    "            else:\n",
    "                fileopt[key] = options\n",
    "                if len(lst) >= 3: fileopt[key] += lst[2]\n",
    "                samplefiles[key] = val\n",
    "    for sname in samplefiles.keys():\n",
    "        sampdic[sname] = {}\n",
    "        #sampdic[sname]['files']      = GetFiles(path, samplefiles[sname])\n",
    "        sampdic[sname]['files']      = [path]\n",
    "        extraOption = GetOptions(path, sampdic[sname]['files'][0].split('/')[-1])\n",
    "        sampdic[sname]['options']    = fileopt[sname] + ', ' + extraOption\n",
    "        sampdic[sname]['xsec']       = xsecdic[sname] if sname in xsecdic.keys() else 1\n",
    "        sampdic[sname]['year']       = year\n",
    "        sampdic[sname]['treeName']   = treeName\n",
    "        nEvents, nGenEvents, nSumOfWeights, isData = GetAllInfoFromFile(sampdic[sname]['files'], sampdic[sname]['treeName'])\n",
    "        sampdic[sname]['nEvents']       = nEvents\n",
    "        sampdic[sname]['nGenEvents']    = nGenEvents\n",
    "        sampdic[sname]['nSumOfWeights'] = nSumOfWeights\n",
    "        sampdic[sname]['isData']        = isData        \n",
    "    return(sampdic)\n",
    "\n",
    "#   Re-assign arguments...\n",
    "#   aarg = sys.argv\n",
    "#   if '--pretend' in aarg or '-p' in aarg : pretend     = args.pretend\n",
    "#   if '--test'    in aarg or '-t' in aarg : dotest      = args.test\n",
    "#   if args.path       != ''       : path        = args.path\n",
    "#   if args.options    != ''       : options     = args.options\n",
    "#   if args.xsec       != 'xsec'   : xsec        = args.xsec\n",
    "#   if args.year       != -1       : year        = args.year\n",
    "#   if args.treeName   != 'Events' : treeName    = args.treeName\n",
    "#   if args.verbose    != 0        : verbose     = int(args.verbose)\n",
    "#   xsecdic = loadxsecdic(xsec, verbose)\n"
   ]
  },
  {
   "cell_type": "code",
   "execution_count": 6,
   "metadata": {},
   "outputs": [],
   "source": [
    "samplesdict = getdictionary(cfgfile,path=path)"
   ]
  },
  {
   "cell_type": "code",
   "execution_count": 7,
   "metadata": {},
   "outputs": [],
   "source": [
    "flist = {}; xsec = {}; sow = {}; isData = {}\n",
    "for k in samplesdict.keys():\n",
    "    flist[k] = samplesdict[k]['files']\n",
    "    xsec[k]  = samplesdict[k]['xsec']\n",
    "    sow[k]   = samplesdict[k]['nSumOfWeights']\n",
    "    isData[k]= samplesdict[k]['isData']"
   ]
  },
  {
   "cell_type": "code",
   "execution_count": 8,
   "metadata": {},
   "outputs": [],
   "source": [
    "processor_instance = topeft.AnalysisProcessor(samplesdict)"
   ]
  },
  {
   "cell_type": "code",
   "execution_count": 9,
   "metadata": {},
   "outputs": [
    {
     "data": {
      "text/plain": [
       "{'DYJetsToLL_MLL50': ['root://xcache//store/user/jrgonzal/nanoAODttH/8F38C0F2-E7A7-C846-BBF5-0C040E6BA839.root'],\n",
       " 'DYJetsToLL_M_10to50': ['root://xcache//store/user/jrgonzal/nanoAODttH/8F38C0F2-E7A7-C846-BBF5-0C040E6BA839.root'],\n",
       " 'ZZTo2L2Nu': ['root://xcache//store/user/jrgonzal/nanoAODttH/8F38C0F2-E7A7-C846-BBF5-0C040E6BA839.root'],\n",
       " 'ZZTo4L': ['root://xcache//store/user/jrgonzal/nanoAODttH/8F38C0F2-E7A7-C846-BBF5-0C040E6BA839.root'],\n",
       " 'WZTo3LNU': ['root://xcache//store/user/jrgonzal/nanoAODttH/8F38C0F2-E7A7-C846-BBF5-0C040E6BA839.root'],\n",
       " 'WWTo2L2Nu': ['root://xcache//store/user/jrgonzal/nanoAODttH/8F38C0F2-E7A7-C846-BBF5-0C040E6BA839.root'],\n",
       " 'tW_noFullHad': ['root://xcache//store/user/jrgonzal/nanoAODttH/8F38C0F2-E7A7-C846-BBF5-0C040E6BA839.root'],\n",
       " 'tbarW_noFullHad': ['root://xcache//store/user/jrgonzal/nanoAODttH/8F38C0F2-E7A7-C846-BBF5-0C040E6BA839.root'],\n",
       " 'TT': ['root://xcache//store/user/jrgonzal/nanoAODttH/8F38C0F2-E7A7-C846-BBF5-0C040E6BA839.root'],\n",
       " 'TTsemilep': ['root://xcache//store/user/jrgonzal/nanoAODttH/8F38C0F2-E7A7-C846-BBF5-0C040E6BA839.root']}"
      ]
     },
     "execution_count": 9,
     "metadata": {},
     "output_type": "execute_result"
    }
   ],
   "source": [
    "flist"
   ]
  },
  {
   "cell_type": "code",
   "execution_count": 10,
   "metadata": {},
   "outputs": [],
   "source": [
    "#Trying just with one item from filelist, since I don't have Xuan's files, all paths are copies of each other\n",
    "flist = {'DYJetsToLL_MLL50': [\"root://xcache//store/user/jrgonzal/nanoAODttH/8F38C0F2-E7A7-C846-BBF5-0C040E6BA839.root\"]}"
   ]
  },
  {
   "cell_type": "code",
   "execution_count": 11,
   "metadata": {},
   "outputs": [
    {
     "data": {
      "text/plain": [
       "{'DYJetsToLL_MLL50': ['root://xcache//store/user/jrgonzal/nanoAODttH/8F38C0F2-E7A7-C846-BBF5-0C040E6BA839.root']}"
      ]
     },
     "execution_count": 11,
     "metadata": {},
     "output_type": "execute_result"
    }
   ],
   "source": [
    "flist"
   ]
  },
  {
   "cell_type": "code",
   "execution_count": 30,
   "metadata": {},
   "outputs": [
    {
     "data": {
      "application/vnd.jupyter.widget-view+json": {
       "model_id": "ce0e93852959445eade0b643f77d7e6f",
       "version_major": 2,
       "version_minor": 0
      },
      "text/plain": [
       "HBox(children=(HTML(value='Processing'), FloatProgress(value=0.0, max=1.0), HTML(value='')))"
      ]
     },
     "metadata": {},
     "output_type": "display_data"
    },
    {
     "name": "stderr",
     "output_type": "stream",
     "text": [
      "/opt/conda/lib/python3.8/site-packages/coffea/util.py:98: Awkward0Warning: In coffea version 0.7 (target date: January 2021), this will be an error.\n",
      "(Set awkward1.deprecations_as_errors = True to get a stack trace now.)\n",
      "TypeError: <class 'coffea.nanoaod.nanoevents.NanoEvents'> relies exclusively on awkward 0.x and will be removed in upcoming versions of coffea!\n",
      "  warnings.warn(message, Awkward0Warning)\n",
      "/opt/conda/lib/python3.8/site-packages/coffea/util.py:98: Awkward0Warning: In coffea version 0.7 (target date: January 2021), this will be an error.\n",
      "(Set awkward1.deprecations_as_errors = True to get a stack trace now.)\n",
      "TypeError: <class 'coffea.nanoaod.nanoevents.NanoCollection'> relies exclusively on awkward 0.x and will be removed in upcoming versions of coffea!\n",
      "  warnings.warn(message, Awkward0Warning)\n"
     ]
    },
    {
     "name": "stdout",
     "output_type": "stream",
     "text": [
      "\n"
     ]
    }
   ],
   "source": [
    "tstart = time.time()\n",
    "output = processor.run_uproot_job(flist, \n",
    "                                  treename='Events', \n",
    "                                  processor_instance=processor_instance, \n",
    "                                  executor=processor.futures_executor, \n",
    "                                  executor_args={'nano':True}, \n",
    "                                  chunksize=500000)"
   ]
  },
  {
   "cell_type": "code",
   "execution_count": 31,
   "metadata": {},
   "outputs": [
    {
     "name": "stdout",
     "output_type": "stream",
     "text": [
      "Filled 16146 bins, nonzero bins: 74.3 %\n",
      "Processing time: 578.43 s with 10 workers (5784.32 s cpu overall)\n",
      "Saving output in histos/plotsTopEFT.pkl.gz...\n",
      "Done!\n"
     ]
    }
   ],
   "source": [
    "\n",
    "dt = time.time() - tstart\n",
    "\n",
    "nbins = sum(sum(arr.size for arr in h._sumw.values()) for h in output.values() if isinstance(h, hist.Hist))\n",
    "nfilled = sum(sum(np.sum(arr > 0) for arr in h._sumw.values()) for h in output.values() if isinstance(h, hist.Hist))\n",
    "print(\"Filled %.0f bins, nonzero bins: %1.1f %%\" % (nbins, 100*nfilled/nbins,))\n",
    "print(\"Processing time: %1.2f s with %i workers (%.2f s cpu overall)\" % (dt, nworkers, dt*nworkers, ))\n",
    "\n",
    "# This is taken from the DM photon analysis...\n",
    "# Pickle is not very fast or memory efficient, will be replaced by something better soon\n",
    "#    with lz4f.open(\"pods/\"+options.year+\"/\"+dataset+\".pkl.gz\", mode=\"xb\", compression_level=5) as fout:\n",
    "os.system(\"mkdir -p histos/\")\n",
    "print('Saving output in %s...'%(\"histos/\" + outname + \".pkl.gz\"))\n",
    "with gzip.open(\"histos/\" + outname + \".pkl.gz\", \"wb\") as fout:\n",
    "    cloudpickle.dump(output, fout)\n",
    "print('Done!')"
   ]
  },
  {
   "cell_type": "code",
   "execution_count": 41,
   "metadata": {},
   "outputs": [
    {
     "data": {
      "text/plain": [
       "{'SumOfEFTweights': <HistEFT (sample,SumOfEFTweights) instance at 0x7f35024b8fd0>,\n",
       " 'dummy': <Hist (sample,dummy) instance at 0x7f3503676550>,\n",
       " 'counts': <Hist (sample,channel,cut,counts) instance at 0x7f35036762b0>,\n",
       " 'invmass': <Hist (sample,channel,cut,invmass) instance at 0x7f3503676880>,\n",
       " 'njets': <HistEFT (sample,channel,cut,njets) instance at 0x7f3503676490>,\n",
       " 'nbtags': <HistEFT (sample,channel,cut,nbtags) instance at 0x7f35036762e0>,\n",
       " 'met': <HistEFT (sample,channel,cut,met) instance at 0x7f35036768e0>,\n",
       " 'm3l': <HistEFT (sample,channel,cut,m3l) instance at 0x7f3503676820>,\n",
       " 'wleppt': <HistEFT (sample,channel,cut,wleppt) instance at 0x7f35024b8040>,\n",
       " 'e0pt': <HistEFT (sample,channel,cut,e0pt) instance at 0x7f35024b8b50>,\n",
       " 'm0pt': <HistEFT (sample,channel,cut,m0pt) instance at 0x7f35024b82e0>,\n",
       " 'j0pt': <HistEFT (sample,channel,cut,j0pt) instance at 0x7f35024b8b20>,\n",
       " 'e0eta': <HistEFT (sample,channel,cut,e0eta) instance at 0x7f35024b8cd0>,\n",
       " 'm0eta': <HistEFT (sample,channel,cut,m0eta) instance at 0x7f35024b8d30>,\n",
       " 'j0eta': <HistEFT (sample,channel,cut,j0eta) instance at 0x7f35024b8970>,\n",
       " 'ht': <HistEFT (sample,channel,cut,ht) instance at 0x7f35024b8c40>}"
      ]
     },
     "execution_count": 41,
     "metadata": {},
     "output_type": "execute_result"
    }
   ],
   "source": [
    "output"
   ]
  },
  {
   "cell_type": "code",
   "execution_count": 40,
   "metadata": {},
   "outputs": [
    {
     "data": {
      "text/plain": [
       "<AxesSubplot:xlabel='sow', ylabel='SumOfWeights'>"
      ]
     },
     "execution_count": 40,
     "metadata": {},
     "output_type": "execute_result"
    },
    {
     "data": {
      "image/png": "[encoded data removed]",
      "text/plain": [
       "<Figure size 432x288 with 1 Axes>"
      ]
     },
     "metadata": {
      "needs_background": "light"
     },
     "output_type": "display_data"
    }
   ],
   "source": [
    "coffea.hist.plot1d(output['SumOfEFTweights'])"
   ]
  },
  {
   "cell_type": "code",
   "execution_count": 130,
   "metadata": {},
   "outputs": [
    {
     "ename": "ValueError",
     "evalue": "Plotting multiple histograms with different binning is not supported",
     "output_type": "error",
     "traceback": [
      "\u001b[0;31m---------------------------------------------------------------------------\u001b[0m",
      "\u001b[0;31mValueError\u001b[0m                                Traceback (most recent call last)",
      "\u001b[0;32m<ipython-input-130-07bbbba6c66d>\u001b[0m in \u001b[0;36m<module>\u001b[0;34m\u001b[0m\n\u001b[0;32m----> 1\u001b[0;31m \u001b[0mcoffea\u001b[0m\u001b[0;34m.\u001b[0m\u001b[0mhist\u001b[0m\u001b[0;34m.\u001b[0m\u001b[0mplot1d\u001b[0m\u001b[0;34m(\u001b[0m\u001b[0mh\u001b[0m\u001b[0;34m,\u001b[0m \u001b[0moverlay\u001b[0m\u001b[0;34m=\u001b[0m\u001b[0;34m\"process\"\u001b[0m\u001b[0;34m)\u001b[0m\u001b[0;34m\u001b[0m\u001b[0;34m\u001b[0m\u001b[0m\n\u001b[0m",
      "\u001b[0;32m/opt/conda/lib/python3.8/site-packages/coffea/hist/plot.py\u001b[0m in \u001b[0;36mplot1d\u001b[0;34m(hist, ax, clear, overlay, stack, overflow, line_opts, fill_opts, error_opts, legend_opts, overlay_overflow, density, binwnorm, order)\u001b[0m\n\u001b[1;32m    255\u001b[0m             \u001b[0mkwargs\u001b[0m \u001b[0;34m=\u001b[0m \u001b[0;34m{\u001b[0m\u001b[0;34m}\u001b[0m\u001b[0;34m\u001b[0m\u001b[0;34m\u001b[0m\u001b[0m\n\u001b[1;32m    256\u001b[0m \u001b[0;34m\u001b[0m\u001b[0m\n\u001b[0;32m--> 257\u001b[0;31m         hep.histplot(plot_info['sumw'], edges, label=plot_info['label'],\n\u001b[0m\u001b[1;32m    258\u001b[0m                      \u001b[0myerr\u001b[0m\u001b[0;34m=\u001b[0m\u001b[0m_error\u001b[0m\u001b[0;34m,\u001b[0m \u001b[0mhisttype\u001b[0m\u001b[0;34m=\u001b[0m\u001b[0mhisttype\u001b[0m\u001b[0;34m,\u001b[0m \u001b[0max\u001b[0m\u001b[0;34m=\u001b[0m\u001b[0max\u001b[0m\u001b[0;34m,\u001b[0m\u001b[0;34m\u001b[0m\u001b[0;34m\u001b[0m\u001b[0m\n\u001b[1;32m    259\u001b[0m                      \u001b[0mdensity\u001b[0m\u001b[0;34m=\u001b[0m\u001b[0mdensity\u001b[0m\u001b[0;34m,\u001b[0m \u001b[0mbinwnorm\u001b[0m\u001b[0;34m=\u001b[0m\u001b[0mbinwnorm\u001b[0m\u001b[0;34m,\u001b[0m \u001b[0mstack\u001b[0m\u001b[0;34m=\u001b[0m\u001b[0mstack\u001b[0m\u001b[0;34m,\u001b[0m\u001b[0;34m\u001b[0m\u001b[0;34m\u001b[0m\u001b[0m\n",
      "\u001b[0;32m/opt/conda/lib/python3.8/site-packages/mplhep/plot.py\u001b[0m in \u001b[0;36mhistplot\u001b[0;34m(H, bins, yerr, w2, stack, density, binwnorm, histtype, label, edges, binticks, ax, **kwargs)\u001b[0m\n\u001b[1;32m    163\u001b[0m                 \u001b[0m_bins\u001b[0m\u001b[0;34m.\u001b[0m\u001b[0mappend\u001b[0m\u001b[0;34m(\u001b[0m\u001b[0mbins\u001b[0m\u001b[0;34m)\u001b[0m\u001b[0;34m\u001b[0m\u001b[0;34m\u001b[0m\u001b[0m\n\u001b[1;32m    164\u001b[0m             \u001b[0;32mif\u001b[0m \u001b[0mlen\u001b[0m\u001b[0;34m(\u001b[0m\u001b[0mset\u001b[0m\u001b[0;34m(\u001b[0m\u001b[0mmap\u001b[0m\u001b[0;34m(\u001b[0m\u001b[0mlen\u001b[0m\u001b[0;34m,\u001b[0m \u001b[0m_H\u001b[0m\u001b[0;34m)\u001b[0m\u001b[0;34m)\u001b[0m\u001b[0;34m)\u001b[0m \u001b[0;34m!=\u001b[0m \u001b[0;36m1\u001b[0m\u001b[0;34m:\u001b[0m\u001b[0;34m\u001b[0m\u001b[0;34m\u001b[0m\u001b[0m\n\u001b[0;32m--> 165\u001b[0;31m                 raise ValueError(\n\u001b[0m\u001b[1;32m    166\u001b[0m                     \u001b[0;34m\"Plotting multiple histograms with different binning is not supported\"\u001b[0m\u001b[0;34m\u001b[0m\u001b[0;34m\u001b[0m\u001b[0m\n\u001b[1;32m    167\u001b[0m                 )\n",
      "\u001b[0;31mValueError\u001b[0m: Plotting multiple histograms with different binning is not supported"
     ]
    },
    {
     "data": {
      "image/png": "[encoded data removed]",
      "text/plain": [
       "<Figure size 432x288 with 1 Axes>"
      ]
     },
     "metadata": {
      "needs_background": "light"
     },
     "output_type": "display_data"
    }
   ],
   "source": [
    "coffea.hist.plot1d(h, overlay=\"process\")"
   ]
  },
  {
   "cell_type": "code",
   "execution_count": 132,
   "metadata": {},
   "outputs": [
    {
     "data": {
      "text/plain": [
       "['process', 'met']"
      ]
     },
     "execution_count": 132,
     "metadata": {},
     "output_type": "execute_result"
    }
   ],
   "source": [
    "h.fields"
   ]
  },
  {
   "cell_type": "code",
   "execution_count": null,
   "metadata": {},
   "outputs": [],
   "source": []
  },
  {
   "cell_type": "code",
   "execution_count": 59,
   "metadata": {},
   "outputs": [
    {
     "data": {
      "text/plain": [
       "['sample', 'channel', 'cut', 'counts']"
      ]
     },
     "execution_count": 59,
     "metadata": {},
     "output_type": "execute_result"
    }
   ],
   "source": [
    "output['counts'].fields"
   ]
  },
  {
   "cell_type": "code",
   "execution_count": 64,
   "metadata": {},
   "outputs": [
    {
     "ename": "SyntaxError",
     "evalue": "invalid syntax (<ipython-input-64-b1688e721c42>, line 1)",
     "output_type": "error",
     "traceback": [
      "\u001b[0;36m  File \u001b[0;32m\"<ipython-input-64-b1688e721c42>\"\u001b[0;36m, line \u001b[0;32m1\u001b[0m\n\u001b[0;31m    output[''invmass''].fields\u001b[0m\n\u001b[0m             ^\u001b[0m\n\u001b[0;31mSyntaxError\u001b[0m\u001b[0;31m:\u001b[0m invalid syntax\n"
     ]
    }
   ],
   "source": [
    "output[''invmass''].fields"
   ]
  },
  {
   "cell_type": "code",
   "execution_count": 75,
   "metadata": {},
   "outputs": [
    {
     "ename": "IndexError",
     "evalue": "Cannot understand slice 0 on axis <Cat (name=sample) instance at 0x7f35bc173820>",
     "output_type": "error",
     "traceback": [
      "\u001b[0;31m---------------------------------------------------------------------------\u001b[0m",
      "\u001b[0;31mIndexError\u001b[0m                                Traceback (most recent call last)",
      "\u001b[0;32m<ipython-input-75-b75282896536>\u001b[0m in \u001b[0;36m<module>\u001b[0;34m\u001b[0m\n\u001b[0;32m----> 1\u001b[0;31m \u001b[0mcoffea\u001b[0m\u001b[0;34m.\u001b[0m\u001b[0mhist\u001b[0m\u001b[0;34m.\u001b[0m\u001b[0mplotgrid\u001b[0m\u001b[0;34m(\u001b[0m\u001b[0moutput\u001b[0m\u001b[0;34m[\u001b[0m\u001b[0;34m'invmass'\u001b[0m\u001b[0;34m]\u001b[0m\u001b[0;34m[\u001b[0m\u001b[0;36m0\u001b[0m\u001b[0;34m]\u001b[0m\u001b[0;34m)\u001b[0m\u001b[0;34m\u001b[0m\u001b[0;34m\u001b[0m\u001b[0m\n\u001b[0m",
      "\u001b[0;32m/opt/conda/lib/python3.8/site-packages/coffea/hist/hist_tools.py\u001b[0m in \u001b[0;36m__getitem__\u001b[0;34m(self, keys)\u001b[0m\n\u001b[1;32m    900\u001b[0m         \u001b[0;32mfor\u001b[0m \u001b[0ms\u001b[0m\u001b[0;34m,\u001b[0m \u001b[0max\u001b[0m \u001b[0;32min\u001b[0m \u001b[0mzip\u001b[0m\u001b[0;34m(\u001b[0m\u001b[0mkeys\u001b[0m\u001b[0;34m,\u001b[0m \u001b[0mself\u001b[0m\u001b[0;34m.\u001b[0m\u001b[0m_axes\u001b[0m\u001b[0;34m)\u001b[0m\u001b[0;34m:\u001b[0m\u001b[0;34m\u001b[0m\u001b[0;34m\u001b[0m\u001b[0m\n\u001b[1;32m    901\u001b[0m             \u001b[0;32mif\u001b[0m \u001b[0misinstance\u001b[0m\u001b[0;34m(\u001b[0m\u001b[0max\u001b[0m\u001b[0;34m,\u001b[0m \u001b[0mSparseAxis\u001b[0m\u001b[0;34m)\u001b[0m\u001b[0;34m:\u001b[0m\u001b[0;34m\u001b[0m\u001b[0;34m\u001b[0m\u001b[0m\n\u001b[0;32m--> 902\u001b[0;31m                 \u001b[0msparse_idx\u001b[0m\u001b[0;34m.\u001b[0m\u001b[0mappend\u001b[0m\u001b[0;34m(\u001b[0m\u001b[0max\u001b[0m\u001b[0;34m.\u001b[0m\u001b[0m_ireduce\u001b[0m\u001b[0;34m(\u001b[0m\u001b[0ms\u001b[0m\u001b[0;34m)\u001b[0m\u001b[0;34m)\u001b[0m\u001b[0;34m\u001b[0m\u001b[0;34m\u001b[0m\u001b[0m\n\u001b[0m\u001b[1;32m    903\u001b[0m                 \u001b[0mnew_dims\u001b[0m\u001b[0;34m.\u001b[0m\u001b[0mappend\u001b[0m\u001b[0;34m(\u001b[0m\u001b[0max\u001b[0m\u001b[0;34m)\u001b[0m\u001b[0;34m\u001b[0m\u001b[0;34m\u001b[0m\u001b[0m\n\u001b[1;32m    904\u001b[0m             \u001b[0;32melse\u001b[0m\u001b[0;34m:\u001b[0m\u001b[0;34m\u001b[0m\u001b[0;34m\u001b[0m\u001b[0m\n",
      "\u001b[0;32m/opt/conda/lib/python3.8/site-packages/coffea/hist/hist_tools.py\u001b[0m in \u001b[0;36m_ireduce\u001b[0;34m(self, the_slice)\u001b[0m\n\u001b[1;32m    362\u001b[0m             \u001b[0mout\u001b[0m \u001b[0;34m=\u001b[0m \u001b[0mself\u001b[0m\u001b[0;34m.\u001b[0m\u001b[0m_sorted\u001b[0m\u001b[0;34m[\u001b[0m\u001b[0mstart\u001b[0m\u001b[0;34m:\u001b[0m\u001b[0mstop\u001b[0m\u001b[0;34m]\u001b[0m\u001b[0;34m\u001b[0m\u001b[0;34m\u001b[0m\u001b[0m\n\u001b[1;32m    363\u001b[0m         \u001b[0;32melse\u001b[0m\u001b[0;34m:\u001b[0m\u001b[0;34m\u001b[0m\u001b[0;34m\u001b[0m\u001b[0m\n\u001b[0;32m--> 364\u001b[0;31m             \u001b[0;32mraise\u001b[0m \u001b[0mIndexError\u001b[0m\u001b[0;34m(\u001b[0m\u001b[0;34m\"Cannot understand slice %r on axis %r\"\u001b[0m \u001b[0;34m%\u001b[0m \u001b[0;34m(\u001b[0m\u001b[0mthe_slice\u001b[0m\u001b[0;34m,\u001b[0m \u001b[0mself\u001b[0m\u001b[0;34m)\u001b[0m\u001b[0;34m)\u001b[0m\u001b[0;34m\u001b[0m\u001b[0;34m\u001b[0m\u001b[0m\n\u001b[0m\u001b[1;32m    365\u001b[0m         \u001b[0;32mreturn\u001b[0m \u001b[0;34m[\u001b[0m\u001b[0mself\u001b[0m\u001b[0;34m.\u001b[0m\u001b[0m_bins\u001b[0m\u001b[0;34m[\u001b[0m\u001b[0mk\u001b[0m\u001b[0;34m]\u001b[0m \u001b[0;32mfor\u001b[0m \u001b[0mk\u001b[0m \u001b[0;32min\u001b[0m \u001b[0mout\u001b[0m\u001b[0;34m]\u001b[0m\u001b[0;34m\u001b[0m\u001b[0;34m\u001b[0m\u001b[0m\n\u001b[1;32m    366\u001b[0m \u001b[0;34m\u001b[0m\u001b[0m\n",
      "\u001b[0;31mIndexError\u001b[0m: Cannot understand slice 0 on axis <Cat (name=sample) instance at 0x7f35bc173820>"
     ]
    }
   ],
   "source": [
    "coffea.hist.plotgrid(output['invmass'][0])"
   ]
  },
  {
   "cell_type": "code",
   "execution_count": 76,
   "metadata": {},
   "outputs": [
    {
     "name": "stderr",
     "output_type": "stream",
     "text": [
      "/opt/conda/lib/python3.8/site-packages/coffea/hist/hist_tools.py:348: RuntimeWarning: Not all requested indices present in <Cat (name=sample) instance at 0x7f359d2bd9a0>\n",
      "  warnings.warn(\"Not all requested indices present in %r\" % self, RuntimeWarning)\n",
      "/opt/conda/lib/python3.8/site-packages/coffea/hist/hist_tools.py:348: RuntimeWarning: Not all requested indices present in <Cat (name=sample) instance at 0x7f358d167a30>\n",
      "  warnings.warn(\"Not all requested indices present in %r\" % self, RuntimeWarning)\n",
      "/opt/conda/lib/python3.8/site-packages/coffea/hist/hist_tools.py:348: RuntimeWarning: Not all requested indices present in <Cat (name=sample) instance at 0x7f358d184040>\n",
      "  warnings.warn(\"Not all requested indices present in %r\" % self, RuntimeWarning)\n",
      "/opt/conda/lib/python3.8/site-packages/coffea/hist/hist_tools.py:348: RuntimeWarning: Not all requested indices present in <Cat (name=sample) instance at 0x7f358d1922b0>\n",
      "  warnings.warn(\"Not all requested indices present in %r\" % self, RuntimeWarning)\n",
      "/opt/conda/lib/python3.8/site-packages/coffea/hist/hist_tools.py:348: RuntimeWarning: Not all requested indices present in <Cat (name=sample) instance at 0x7f358d192ca0>\n",
      "  warnings.warn(\"Not all requested indices present in %r\" % self, RuntimeWarning)\n",
      "/opt/conda/lib/python3.8/site-packages/coffea/hist/hist_tools.py:348: RuntimeWarning: Not all requested indices present in <Cat (name=sample) instance at 0x7f358d1db400>\n",
      "  warnings.warn(\"Not all requested indices present in %r\" % self, RuntimeWarning)\n",
      "/opt/conda/lib/python3.8/site-packages/coffea/hist/hist_tools.py:348: RuntimeWarning: Not all requested indices present in <Cat (name=sample) instance at 0x7f358d1f4d90>\n",
      "  warnings.warn(\"Not all requested indices present in %r\" % self, RuntimeWarning)\n",
      "/opt/conda/lib/python3.8/site-packages/coffea/hist/hist_tools.py:348: RuntimeWarning: Not all requested indices present in <Cat (name=sample) instance at 0x7f358d1ffd90>\n",
      "  warnings.warn(\"Not all requested indices present in %r\" % self, RuntimeWarning)\n",
      "/opt/conda/lib/python3.8/site-packages/coffea/hist/hist_tools.py:348: RuntimeWarning: Not all requested indices present in <Cat (name=sample) instance at 0x7f358d2126d0>\n",
      "  warnings.warn(\"Not all requested indices present in %r\" % self, RuntimeWarning)\n",
      "/opt/conda/lib/python3.8/site-packages/coffea/hist/hist_tools.py:348: RuntimeWarning: Not all requested indices present in <Cat (name=sample) instance at 0x7f358d1b0040>\n",
      "  warnings.warn(\"Not all requested indices present in %r\" % self, RuntimeWarning)\n",
      "/opt/conda/lib/python3.8/site-packages/coffea/hist/hist_tools.py:348: RuntimeWarning: Not all requested indices present in <Cat (name=sample) instance at 0x7f358d1b7cd0>\n",
      "  warnings.warn(\"Not all requested indices present in %r\" % self, RuntimeWarning)\n",
      "/opt/conda/lib/python3.8/site-packages/coffea/hist/hist_tools.py:348: RuntimeWarning: Not all requested indices present in <Cat (name=sample) instance at 0x7f358d1c8610>\n",
      "  warnings.warn(\"Not all requested indices present in %r\" % self, RuntimeWarning)\n",
      "/opt/conda/lib/python3.8/site-packages/coffea/hist/hist_tools.py:348: RuntimeWarning: Not all requested indices present in <Cat (name=sample) instance at 0x7f358d1d2f10>\n",
      "  warnings.warn(\"Not all requested indices present in %r\" % self, RuntimeWarning)\n",
      "/opt/conda/lib/python3.8/site-packages/coffea/hist/hist_tools.py:348: RuntimeWarning: Not all requested indices present in <Cat (name=sample) instance at 0x7f358d0e3c70>\n",
      "  warnings.warn(\"Not all requested indices present in %r\" % self, RuntimeWarning)\n"
     ]
    },
    {
     "ename": "ValueError",
     "evalue": "Plotting multiple histograms with different binning is not supported",
     "output_type": "error",
     "traceback": [
      "\u001b[0;31m---------------------------------------------------------------------------\u001b[0m",
      "\u001b[0;31mValueError\u001b[0m                                Traceback (most recent call last)",
      "\u001b[0;32m<ipython-input-76-334d2f65858f>\u001b[0m in \u001b[0;36m<module>\u001b[0;34m\u001b[0m\n\u001b[1;32m     72\u001b[0m   \u001b[0mplt\u001b[0m\u001b[0;34m.\u001b[0m\u001b[0mPrintYields\u001b[0m\u001b[0;34m(\u001b[0m\u001b[0;34m'counts'\u001b[0m\u001b[0;34m)\u001b[0m\u001b[0;34m\u001b[0m\u001b[0;34m\u001b[0m\u001b[0m\n\u001b[1;32m     73\u001b[0m \u001b[0;34m\u001b[0m\u001b[0m\n\u001b[0;32m---> 74\u001b[0;31m \u001b[0mDraw\u001b[0m\u001b[0;34m(\u001b[0m\u001b[0;34m'met'\u001b[0m\u001b[0;34m,\u001b[0m \u001b[0mcategories\u001b[0m\u001b[0;34m,\u001b[0m \u001b[0;34m'3 leptons'\u001b[0m\u001b[0;34m)\u001b[0m\u001b[0;34m\u001b[0m\u001b[0;34m\u001b[0m\u001b[0m\n\u001b[0m",
      "\u001b[0;32m<ipython-input-76-334d2f65858f>\u001b[0m in \u001b[0;36mDraw\u001b[0;34m(var, categories, label)\u001b[0m\n\u001b[1;32m     69\u001b[0m   \u001b[0mplt\u001b[0m\u001b[0;34m.\u001b[0m\u001b[0mSetCategories\u001b[0m\u001b[0;34m(\u001b[0m\u001b[0mcategories\u001b[0m\u001b[0;34m)\u001b[0m\u001b[0;34m\u001b[0m\u001b[0;34m\u001b[0m\u001b[0m\n\u001b[1;32m     70\u001b[0m   \u001b[0mplt\u001b[0m\u001b[0;34m.\u001b[0m\u001b[0mSetRegion\u001b[0m\u001b[0;34m(\u001b[0m\u001b[0mlabel\u001b[0m\u001b[0;34m)\u001b[0m\u001b[0;34m\u001b[0m\u001b[0;34m\u001b[0m\u001b[0m\n\u001b[0;32m---> 71\u001b[0;31m   \u001b[0mplt\u001b[0m\u001b[0;34m.\u001b[0m\u001b[0mStack\u001b[0m\u001b[0;34m(\u001b[0m\u001b[0mvar\u001b[0m\u001b[0;34m,\u001b[0m \u001b[0mxtit\u001b[0m\u001b[0;34m=\u001b[0m\u001b[0;34m''\u001b[0m\u001b[0;34m,\u001b[0m \u001b[0mytit\u001b[0m\u001b[0;34m=\u001b[0m\u001b[0;34m''\u001b[0m\u001b[0;34m)\u001b[0m\u001b[0;34m\u001b[0m\u001b[0;34m\u001b[0m\u001b[0m\n\u001b[0m\u001b[1;32m     72\u001b[0m   \u001b[0mplt\u001b[0m\u001b[0;34m.\u001b[0m\u001b[0mPrintYields\u001b[0m\u001b[0;34m(\u001b[0m\u001b[0;34m'counts'\u001b[0m\u001b[0;34m)\u001b[0m\u001b[0;34m\u001b[0m\u001b[0;34m\u001b[0m\u001b[0m\n\u001b[1;32m     73\u001b[0m \u001b[0;34m\u001b[0m\u001b[0m\n",
      "\u001b[0;32m~/topcoffea/topcoffea/plotter/plotter.py\u001b[0m in \u001b[0;36mStack\u001b[0;34m(self, hname, xtit, ytit)\u001b[0m\n\u001b[1;32m    239\u001b[0m     \u001b[0mh\u001b[0m \u001b[0;34m=\u001b[0m \u001b[0mself\u001b[0m\u001b[0;34m.\u001b[0m\u001b[0mGetHistogram\u001b[0m\u001b[0;34m(\u001b[0m\u001b[0mhname\u001b[0m\u001b[0;34m,\u001b[0m \u001b[0mself\u001b[0m\u001b[0;34m.\u001b[0m\u001b[0mbkglist\u001b[0m\u001b[0;34m)\u001b[0m\u001b[0;34m\u001b[0m\u001b[0;34m\u001b[0m\u001b[0m\n\u001b[1;32m    240\u001b[0m     \u001b[0mh\u001b[0m\u001b[0;34m.\u001b[0m\u001b[0mscale\u001b[0m\u001b[0;34m(\u001b[0m\u001b[0;36m1000.\u001b[0m\u001b[0;34m*\u001b[0m\u001b[0mself\u001b[0m\u001b[0;34m.\u001b[0m\u001b[0mlumi\u001b[0m\u001b[0;34m)\u001b[0m\u001b[0;34m\u001b[0m\u001b[0;34m\u001b[0m\u001b[0m\n\u001b[0;32m--> 241\u001b[0;31m     \u001b[0mhist\u001b[0m\u001b[0;34m.\u001b[0m\u001b[0mplot1d\u001b[0m\u001b[0;34m(\u001b[0m\u001b[0mh\u001b[0m\u001b[0;34m,\u001b[0m \u001b[0moverlay\u001b[0m\u001b[0;34m=\u001b[0m\u001b[0;34m\"process\"\u001b[0m\u001b[0;34m,\u001b[0m \u001b[0max\u001b[0m\u001b[0;34m=\u001b[0m\u001b[0max\u001b[0m\u001b[0;34m,\u001b[0m \u001b[0mclear\u001b[0m\u001b[0;34m=\u001b[0m\u001b[0;32mFalse\u001b[0m\u001b[0;34m,\u001b[0m \u001b[0mstack\u001b[0m\u001b[0;34m=\u001b[0m\u001b[0mself\u001b[0m\u001b[0;34m.\u001b[0m\u001b[0mdoStack\u001b[0m\u001b[0;34m,\u001b[0m \u001b[0mdensity\u001b[0m\u001b[0;34m=\u001b[0m\u001b[0mdensity\u001b[0m\u001b[0;34m,\u001b[0m \u001b[0mline_opts\u001b[0m\u001b[0;34m=\u001b[0m\u001b[0;32mNone\u001b[0m\u001b[0;34m,\u001b[0m \u001b[0mfill_opts\u001b[0m\u001b[0;34m=\u001b[0m\u001b[0mfill_opts\u001b[0m\u001b[0;34m,\u001b[0m \u001b[0merror_opts\u001b[0m\u001b[0;34m=\u001b[0m\u001b[0merror_opts\u001b[0m\u001b[0;34m,\u001b[0m \u001b[0mbinwnorm\u001b[0m\u001b[0;34m=\u001b[0m\u001b[0mbinwnorm\u001b[0m\u001b[0;34m)\u001b[0m\u001b[0;34m\u001b[0m\u001b[0;34m\u001b[0m\u001b[0m\n\u001b[0m\u001b[1;32m    242\u001b[0m \u001b[0;34m\u001b[0m\u001b[0m\n\u001b[1;32m    243\u001b[0m     \u001b[0;32mif\u001b[0m \u001b[0mself\u001b[0m\u001b[0;34m.\u001b[0m\u001b[0mdoData\u001b[0m\u001b[0;34m(\u001b[0m\u001b[0mhname\u001b[0m\u001b[0;34m)\u001b[0m\u001b[0;34m:\u001b[0m\u001b[0;34m\u001b[0m\u001b[0;34m\u001b[0m\u001b[0m\n",
      "\u001b[0;32m/opt/conda/lib/python3.8/site-packages/coffea/hist/plot.py\u001b[0m in \u001b[0;36mplot1d\u001b[0;34m(hist, ax, clear, overlay, stack, overflow, line_opts, fill_opts, error_opts, legend_opts, overlay_overflow, density, binwnorm, order)\u001b[0m\n\u001b[1;32m    255\u001b[0m             \u001b[0mkwargs\u001b[0m \u001b[0;34m=\u001b[0m \u001b[0;34m{\u001b[0m\u001b[0;34m}\u001b[0m\u001b[0;34m\u001b[0m\u001b[0;34m\u001b[0m\u001b[0m\n\u001b[1;32m    256\u001b[0m \u001b[0;34m\u001b[0m\u001b[0m\n\u001b[0;32m--> 257\u001b[0;31m         hep.histplot(plot_info['sumw'], edges, label=plot_info['label'],\n\u001b[0m\u001b[1;32m    258\u001b[0m                      \u001b[0myerr\u001b[0m\u001b[0;34m=\u001b[0m\u001b[0m_error\u001b[0m\u001b[0;34m,\u001b[0m \u001b[0mhisttype\u001b[0m\u001b[0;34m=\u001b[0m\u001b[0mhisttype\u001b[0m\u001b[0;34m,\u001b[0m \u001b[0max\u001b[0m\u001b[0;34m=\u001b[0m\u001b[0max\u001b[0m\u001b[0;34m,\u001b[0m\u001b[0;34m\u001b[0m\u001b[0;34m\u001b[0m\u001b[0m\n\u001b[1;32m    259\u001b[0m                      \u001b[0mdensity\u001b[0m\u001b[0;34m=\u001b[0m\u001b[0mdensity\u001b[0m\u001b[0;34m,\u001b[0m \u001b[0mbinwnorm\u001b[0m\u001b[0;34m=\u001b[0m\u001b[0mbinwnorm\u001b[0m\u001b[0;34m,\u001b[0m \u001b[0mstack\u001b[0m\u001b[0;34m=\u001b[0m\u001b[0mstack\u001b[0m\u001b[0;34m,\u001b[0m\u001b[0;34m\u001b[0m\u001b[0;34m\u001b[0m\u001b[0m\n",
      "\u001b[0;32m/opt/conda/lib/python3.8/site-packages/mplhep/plot.py\u001b[0m in \u001b[0;36mhistplot\u001b[0;34m(H, bins, yerr, w2, stack, density, binwnorm, histtype, label, edges, binticks, ax, **kwargs)\u001b[0m\n\u001b[1;32m    163\u001b[0m                 \u001b[0m_bins\u001b[0m\u001b[0;34m.\u001b[0m\u001b[0mappend\u001b[0m\u001b[0;34m(\u001b[0m\u001b[0mbins\u001b[0m\u001b[0;34m)\u001b[0m\u001b[0;34m\u001b[0m\u001b[0;34m\u001b[0m\u001b[0m\n\u001b[1;32m    164\u001b[0m             \u001b[0;32mif\u001b[0m \u001b[0mlen\u001b[0m\u001b[0;34m(\u001b[0m\u001b[0mset\u001b[0m\u001b[0;34m(\u001b[0m\u001b[0mmap\u001b[0m\u001b[0;34m(\u001b[0m\u001b[0mlen\u001b[0m\u001b[0;34m,\u001b[0m \u001b[0m_H\u001b[0m\u001b[0;34m)\u001b[0m\u001b[0;34m)\u001b[0m\u001b[0;34m)\u001b[0m \u001b[0;34m!=\u001b[0m \u001b[0;36m1\u001b[0m\u001b[0;34m:\u001b[0m\u001b[0;34m\u001b[0m\u001b[0;34m\u001b[0m\u001b[0m\n\u001b[0;32m--> 165\u001b[0;31m                 raise ValueError(\n\u001b[0m\u001b[1;32m    166\u001b[0m                     \u001b[0;34m\"Plotting multiple histograms with different binning is not supported\"\u001b[0m\u001b[0;34m\u001b[0m\u001b[0;34m\u001b[0m\u001b[0m\n\u001b[1;32m    167\u001b[0m                 )\n",
      "\u001b[0;31mValueError\u001b[0m: Plotting multiple histograms with different binning is not supported"
     ]
    },
    {
     "data": {
      "image/png": "[encoded data removed]",
      "text/plain": [
       "<Figure size 504x504 with 1 Axes>"
      ]
     },
     "metadata": {
      "needs_background": "light"
     },
     "output_type": "display_data"
    }
   ],
   "source": [
    "from __future__ import print_function, division\n",
    "from collections import defaultdict, OrderedDict\n",
    "import gzip\n",
    "import pickle\n",
    "import json\n",
    "import os\n",
    "import uproot\n",
    "import matplotlib.pyplot as plt\n",
    "import numpy as np\n",
    "from coffea import hist, processor \n",
    "from coffea.hist import plot\n",
    "import os, sys\n",
    "\n",
    "from topcoffea.plotter.plotter import plotter\n",
    "\n",
    "path = 'histos/plotsTopEFT.pkl.gz'\n",
    "\n",
    "processDic = {\n",
    "  'Nonprompt' : 'TTTo2L2Nu,tW_noFullHad, tbarW_noFullHad, WJetsToLNu_MLM, WWTo2L2Nu',\n",
    "  'DY' : 'DYJetsToLL_M_10to50_MLM, DYJetsToLL_M_50_a',\n",
    "  'Other': 'WWW,WZG,WWZ,WZZ,ZZZ,tttt,ttWW,ttWZ,ttZH,ttZZ,ttHH,tZq,TTG',\n",
    "  'WZ' : 'WZTo2L2Q,WZTo3LNu',\n",
    "  'ZZ' : 'ZZTo2L2Nu,ZZTo2L2Q,ZZTo4L',\n",
    "  'ttW': 'TTWJetsToLNu',\n",
    "  'ttZ': 'TTZToLL_M_1to10,TTZToLLNuNu_M_10_a',\n",
    "  'ttH' : 'ttHnobb,tHq',\n",
    "  'data' : 'EGamma, SingleMuon, DoubleMuon',\n",
    "}\n",
    " = ['Nonprompt', 'Other', 'DY',  'ttH', 'WZ', 'ZZ', 'ttZ', 'ttW']\n",
    "allbkg  = ['tt', 'tW', 'WW', 'ttG', 'WW', 'WJets', 'Other', 'DY',  'ttH', 'WZ', 'ZZ', 'ttZ', 'ttW']\n",
    "bkglist\n",
    "colordic ={\n",
    "  'Other' : '#808080',\n",
    "  'DY' : '#fbff00',\n",
    "  'WZ' : '#ffa200',\n",
    "  'ZZ' : '#8fff00',\n",
    "  'ttW': '#00a278',\n",
    "  'ttZ': '#6603ab',\n",
    "  'VVV' : '#c688b4',\n",
    "  'tttt' : '#0b23f0',\n",
    "  'Nonprompt' : '#0b23f0',\n",
    "  'ttVV' : '#888db5',\n",
    "  'tHq' : '#5b0003',\n",
    "  'ttH' : '#f00b0b',\n",
    "  'tZq' : '#00065b',\n",
    "  'tt' : '#0b23f0',\n",
    "  'tW' : '#888db5',\n",
    "  'ttG' : '#5b0003',\n",
    "  'WW' : '#f00b0b',\n",
    "  'WJets' : '#00065b',\n",
    "}\n",
    "\n",
    "ch3l = ['eemSSonZ', 'eemSSoffZ', 'mmeSSonZ', 'mmeSSoffZ','eeeSSonZ', 'eeeSSoffZ', 'mmmSSonZ', 'mmmSSoffZ']\n",
    "ch2lss = ['eeSSonZ', 'eeSSoffZ', 'mmSSonZ', 'mmSSoffZ', 'emSS']\n",
    "categories = {\n",
    " 'channel' : ch3l,#['eemSSonZ', 'eemSSoffZ', 'mmeSSonZ', 'mmeSSoffZ','eeeSSonZ', 'eeeSSoffZ', 'mmmSSonZ', 'mmmSSoffZ'],#'eeSSonZ', 'eeSSoffZ', 'mmSSonZ', 'mmSSoffZ', 'emSS'],\n",
    " 'cut' : ['2jets', '4jets','4j1b', '4j2b'],#['base', '2jets', '4jets', '4j1b', '4j2b'],\n",
    " #'Zcat' : ['onZ', 'offZ'],\n",
    " #'lepCat' : ['3l'],\n",
    "}\n",
    "\n",
    "colors = [colordic[k] for k in bkglist]\n",
    "\n",
    "\n",
    "def Draw(var, categories, label=''):\n",
    "    plt = plotter(path, prDic=processDic, bkgList=bkglist)\n",
    "    plt.plotData = True\n",
    "    plt.SetColors(colors)\n",
    "    plt.SetCategories(categories)\n",
    "    plt.SetRegion(label)\n",
    "    plt.Stack(var, xtit='', ytit='')\n",
    "    plt.PrintYields('counts')\n",
    "\n",
    "Draw('met', categories, '3 leptons')"
   ]
  },
  {
   "cell_type": "code",
   "execution_count": 77,
   "metadata": {},
   "outputs": [
    {
     "name": "stderr",
     "output_type": "stream",
     "text": [
      "/opt/conda/lib/python3.8/site-packages/coffea/hist/hist_tools.py:348: RuntimeWarning: Not all requested indices present in <Cat (name=sample) instance at 0x7f358d19ffd0>\n",
      "  warnings.warn(\"Not all requested indices present in %r\" % self, RuntimeWarning)\n",
      "/opt/conda/lib/python3.8/site-packages/coffea/hist/hist_tools.py:348: RuntimeWarning: Not all requested indices present in <Cat (name=sample) instance at 0x7f359d298df0>\n",
      "  warnings.warn(\"Not all requested indices present in %r\" % self, RuntimeWarning)\n",
      "/opt/conda/lib/python3.8/site-packages/coffea/hist/hist_tools.py:348: RuntimeWarning: Not all requested indices present in <Cat (name=sample) instance at 0x7f359d2cd940>\n",
      "  warnings.warn(\"Not all requested indices present in %r\" % self, RuntimeWarning)\n",
      "/opt/conda/lib/python3.8/site-packages/coffea/hist/hist_tools.py:348: RuntimeWarning: Not all requested indices present in <Cat (name=sample) instance at 0x7f359d321100>\n",
      "  warnings.warn(\"Not all requested indices present in %r\" % self, RuntimeWarning)\n",
      "/opt/conda/lib/python3.8/site-packages/coffea/hist/hist_tools.py:348: RuntimeWarning: Not all requested indices present in <Cat (name=sample) instance at 0x7f359d34eac0>\n",
      "  warnings.warn(\"Not all requested indices present in %r\" % self, RuntimeWarning)\n",
      "/opt/conda/lib/python3.8/site-packages/coffea/hist/hist_tools.py:348: RuntimeWarning: Not all requested indices present in <Cat (name=sample) instance at 0x7f359d2d3e80>\n",
      "  warnings.warn(\"Not all requested indices present in %r\" % self, RuntimeWarning)\n",
      "/opt/conda/lib/python3.8/site-packages/coffea/hist/hist_tools.py:348: RuntimeWarning: Not all requested indices present in <Cat (name=sample) instance at 0x7f3503e2fdf0>\n",
      "  warnings.warn(\"Not all requested indices present in %r\" % self, RuntimeWarning)\n",
      "/opt/conda/lib/python3.8/site-packages/coffea/hist/hist_tools.py:348: RuntimeWarning: Not all requested indices present in <Cat (name=sample) instance at 0x7f358cfb77c0>\n",
      "  warnings.warn(\"Not all requested indices present in %r\" % self, RuntimeWarning)\n",
      "/opt/conda/lib/python3.8/site-packages/coffea/hist/hist_tools.py:348: RuntimeWarning: Not all requested indices present in <Cat (name=sample) instance at 0x7f350141c0d0>\n",
      "  warnings.warn(\"Not all requested indices present in %r\" % self, RuntimeWarning)\n",
      "/opt/conda/lib/python3.8/site-packages/coffea/hist/hist_tools.py:348: RuntimeWarning: Not all requested indices present in <Cat (name=sample) instance at 0x7f35014271f0>\n",
      "  warnings.warn(\"Not all requested indices present in %r\" % self, RuntimeWarning)\n",
      "/opt/conda/lib/python3.8/site-packages/coffea/hist/hist_tools.py:348: RuntimeWarning: Not all requested indices present in <Cat (name=sample) instance at 0x7f359d339a30>\n",
      "  warnings.warn(\"Not all requested indices present in %r\" % self, RuntimeWarning)\n",
      "/opt/conda/lib/python3.8/site-packages/coffea/hist/hist_tools.py:348: RuntimeWarning: Not all requested indices present in <Cat (name=sample) instance at 0x7f3503e1d4f0>\n",
      "  warnings.warn(\"Not all requested indices present in %r\" % self, RuntimeWarning)\n",
      "/opt/conda/lib/python3.8/site-packages/coffea/hist/hist_tools.py:348: RuntimeWarning: Not all requested indices present in <Cat (name=sample) instance at 0x7f359d32a970>\n",
      "  warnings.warn(\"Not all requested indices present in %r\" % self, RuntimeWarning)\n",
      "/opt/conda/lib/python3.8/site-packages/coffea/hist/hist_tools.py:348: RuntimeWarning: Not all requested indices present in <Cat (name=sample) instance at 0x7f359d2a5fd0>\n",
      "  warnings.warn(\"Not all requested indices present in %r\" % self, RuntimeWarning)\n"
     ]
    }
   ],
   "source": [
    "plt = plotter(path, prDic=processDic, bkgList=bkglist)"
   ]
  },
  {
   "cell_type": "code",
   "execution_count": null,
   "metadata": {},
   "outputs": [],
   "source": [
    "\n",
    "def Draw(var, categories, label=''):\n",
    "    plt = plotter(path, prDic=processDic, bkgList=bkglist)\n",
    "    plt.plotData = True\n",
    "    plt.SetColors(colors)\n",
    "    plt.SetCategories(categories)\n",
    "    plt.SetRegion(label)\n",
    "    plt.Stack(var, xtit='', ytit='')\n",
    "    plt.PrintYields('counts')\n",
    "\n",
    "Draw('met', categories, '3 leptons')"
   ]
  },
  {
   "cell_type": "code",
   "execution_count": 79,
   "metadata": {},
   "outputs": [],
   "source": [
    "plt.SetColors(colors)"
   ]
  },
  {
   "cell_type": "code",
   "execution_count": 80,
   "metadata": {},
   "outputs": [],
   "source": [
    "plt.SetCategories(categories)"
   ]
  },
  {
   "cell_type": "code",
   "execution_count": 82,
   "metadata": {},
   "outputs": [],
   "source": [
    "label =''\n",
    "plt.SetRegion(label)"
   ]
  },
  {
   "cell_type": "code",
   "execution_count": 83,
   "metadata": {},
   "outputs": [
    {
     "ename": "ValueError",
     "evalue": "Plotting multiple histograms with different binning is not supported",
     "output_type": "error",
     "traceback": [
      "\u001b[0;31m---------------------------------------------------------------------------\u001b[0m",
      "\u001b[0;31mValueError\u001b[0m                                Traceback (most recent call last)",
      "\u001b[0;32m<ipython-input-83-1d76935c3e66>\u001b[0m in \u001b[0;36m<module>\u001b[0;34m\u001b[0m\n\u001b[1;32m      1\u001b[0m \u001b[0mvar\u001b[0m\u001b[0;34m=\u001b[0m\u001b[0;34m'met'\u001b[0m\u001b[0;34m\u001b[0m\u001b[0;34m\u001b[0m\u001b[0m\n\u001b[0;32m----> 2\u001b[0;31m \u001b[0mplt\u001b[0m\u001b[0;34m.\u001b[0m\u001b[0mStack\u001b[0m\u001b[0;34m(\u001b[0m\u001b[0mvar\u001b[0m\u001b[0;34m,\u001b[0m \u001b[0mxtit\u001b[0m\u001b[0;34m=\u001b[0m\u001b[0;34m''\u001b[0m\u001b[0;34m,\u001b[0m \u001b[0mytit\u001b[0m\u001b[0;34m=\u001b[0m\u001b[0;34m''\u001b[0m\u001b[0;34m)\u001b[0m\u001b[0;34m\u001b[0m\u001b[0;34m\u001b[0m\u001b[0m\n\u001b[0m",
      "\u001b[0;32m~/topcoffea/topcoffea/plotter/plotter.py\u001b[0m in \u001b[0;36mStack\u001b[0;34m(self, hname, xtit, ytit)\u001b[0m\n\u001b[1;32m    239\u001b[0m     \u001b[0mh\u001b[0m \u001b[0;34m=\u001b[0m \u001b[0mself\u001b[0m\u001b[0;34m.\u001b[0m\u001b[0mGetHistogram\u001b[0m\u001b[0;34m(\u001b[0m\u001b[0mhname\u001b[0m\u001b[0;34m,\u001b[0m \u001b[0mself\u001b[0m\u001b[0;34m.\u001b[0m\u001b[0mbkglist\u001b[0m\u001b[0;34m)\u001b[0m\u001b[0;34m\u001b[0m\u001b[0;34m\u001b[0m\u001b[0m\n\u001b[1;32m    240\u001b[0m     \u001b[0mh\u001b[0m\u001b[0;34m.\u001b[0m\u001b[0mscale\u001b[0m\u001b[0;34m(\u001b[0m\u001b[0;36m1000.\u001b[0m\u001b[0;34m*\u001b[0m\u001b[0mself\u001b[0m\u001b[0;34m.\u001b[0m\u001b[0mlumi\u001b[0m\u001b[0;34m)\u001b[0m\u001b[0;34m\u001b[0m\u001b[0;34m\u001b[0m\u001b[0m\n\u001b[0;32m--> 241\u001b[0;31m     \u001b[0mhist\u001b[0m\u001b[0;34m.\u001b[0m\u001b[0mplot1d\u001b[0m\u001b[0;34m(\u001b[0m\u001b[0mh\u001b[0m\u001b[0;34m,\u001b[0m \u001b[0moverlay\u001b[0m\u001b[0;34m=\u001b[0m\u001b[0;34m\"process\"\u001b[0m\u001b[0;34m,\u001b[0m \u001b[0max\u001b[0m\u001b[0;34m=\u001b[0m\u001b[0max\u001b[0m\u001b[0;34m,\u001b[0m \u001b[0mclear\u001b[0m\u001b[0;34m=\u001b[0m\u001b[0;32mFalse\u001b[0m\u001b[0;34m,\u001b[0m \u001b[0mstack\u001b[0m\u001b[0;34m=\u001b[0m\u001b[0mself\u001b[0m\u001b[0;34m.\u001b[0m\u001b[0mdoStack\u001b[0m\u001b[0;34m,\u001b[0m \u001b[0mdensity\u001b[0m\u001b[0;34m=\u001b[0m\u001b[0mdensity\u001b[0m\u001b[0;34m,\u001b[0m \u001b[0mline_opts\u001b[0m\u001b[0;34m=\u001b[0m\u001b[0;32mNone\u001b[0m\u001b[0;34m,\u001b[0m \u001b[0mfill_opts\u001b[0m\u001b[0;34m=\u001b[0m\u001b[0mfill_opts\u001b[0m\u001b[0;34m,\u001b[0m \u001b[0merror_opts\u001b[0m\u001b[0;34m=\u001b[0m\u001b[0merror_opts\u001b[0m\u001b[0;34m,\u001b[0m \u001b[0mbinwnorm\u001b[0m\u001b[0;34m=\u001b[0m\u001b[0mbinwnorm\u001b[0m\u001b[0;34m)\u001b[0m\u001b[0;34m\u001b[0m\u001b[0;34m\u001b[0m\u001b[0m\n\u001b[0m\u001b[1;32m    242\u001b[0m \u001b[0;34m\u001b[0m\u001b[0m\n\u001b[1;32m    243\u001b[0m     \u001b[0;32mif\u001b[0m \u001b[0mself\u001b[0m\u001b[0;34m.\u001b[0m\u001b[0mdoData\u001b[0m\u001b[0;34m(\u001b[0m\u001b[0mhname\u001b[0m\u001b[0;34m)\u001b[0m\u001b[0;34m:\u001b[0m\u001b[0;34m\u001b[0m\u001b[0;34m\u001b[0m\u001b[0m\n",
      "\u001b[0;32m/opt/conda/lib/python3.8/site-packages/coffea/hist/plot.py\u001b[0m in \u001b[0;36mplot1d\u001b[0;34m(hist, ax, clear, overlay, stack, overflow, line_opts, fill_opts, error_opts, legend_opts, overlay_overflow, density, binwnorm, order)\u001b[0m\n\u001b[1;32m    255\u001b[0m             \u001b[0mkwargs\u001b[0m \u001b[0;34m=\u001b[0m \u001b[0;34m{\u001b[0m\u001b[0;34m}\u001b[0m\u001b[0;34m\u001b[0m\u001b[0;34m\u001b[0m\u001b[0m\n\u001b[1;32m    256\u001b[0m \u001b[0;34m\u001b[0m\u001b[0m\n\u001b[0;32m--> 257\u001b[0;31m         hep.histplot(plot_info['sumw'], edges, label=plot_info['label'],\n\u001b[0m\u001b[1;32m    258\u001b[0m                      \u001b[0myerr\u001b[0m\u001b[0;34m=\u001b[0m\u001b[0m_error\u001b[0m\u001b[0;34m,\u001b[0m \u001b[0mhisttype\u001b[0m\u001b[0;34m=\u001b[0m\u001b[0mhisttype\u001b[0m\u001b[0;34m,\u001b[0m \u001b[0max\u001b[0m\u001b[0;34m=\u001b[0m\u001b[0max\u001b[0m\u001b[0;34m,\u001b[0m\u001b[0;34m\u001b[0m\u001b[0;34m\u001b[0m\u001b[0m\n\u001b[1;32m    259\u001b[0m                      \u001b[0mdensity\u001b[0m\u001b[0;34m=\u001b[0m\u001b[0mdensity\u001b[0m\u001b[0;34m,\u001b[0m \u001b[0mbinwnorm\u001b[0m\u001b[0;34m=\u001b[0m\u001b[0mbinwnorm\u001b[0m\u001b[0;34m,\u001b[0m \u001b[0mstack\u001b[0m\u001b[0;34m=\u001b[0m\u001b[0mstack\u001b[0m\u001b[0;34m,\u001b[0m\u001b[0;34m\u001b[0m\u001b[0;34m\u001b[0m\u001b[0m\n",
      "\u001b[0;32m/opt/conda/lib/python3.8/site-packages/mplhep/plot.py\u001b[0m in \u001b[0;36mhistplot\u001b[0;34m(H, bins, yerr, w2, stack, density, binwnorm, histtype, label, edges, binticks, ax, **kwargs)\u001b[0m\n\u001b[1;32m    163\u001b[0m                 \u001b[0m_bins\u001b[0m\u001b[0;34m.\u001b[0m\u001b[0mappend\u001b[0m\u001b[0;34m(\u001b[0m\u001b[0mbins\u001b[0m\u001b[0;34m)\u001b[0m\u001b[0;34m\u001b[0m\u001b[0;34m\u001b[0m\u001b[0m\n\u001b[1;32m    164\u001b[0m             \u001b[0;32mif\u001b[0m \u001b[0mlen\u001b[0m\u001b[0;34m(\u001b[0m\u001b[0mset\u001b[0m\u001b[0;34m(\u001b[0m\u001b[0mmap\u001b[0m\u001b[0;34m(\u001b[0m\u001b[0mlen\u001b[0m\u001b[0;34m,\u001b[0m \u001b[0m_H\u001b[0m\u001b[0;34m)\u001b[0m\u001b[0;34m)\u001b[0m\u001b[0;34m)\u001b[0m \u001b[0;34m!=\u001b[0m \u001b[0;36m1\u001b[0m\u001b[0;34m:\u001b[0m\u001b[0;34m\u001b[0m\u001b[0;34m\u001b[0m\u001b[0m\n\u001b[0;32m--> 165\u001b[0;31m                 raise ValueError(\n\u001b[0m\u001b[1;32m    166\u001b[0m                     \u001b[0;34m\"Plotting multiple histograms with different binning is not supported\"\u001b[0m\u001b[0;34m\u001b[0m\u001b[0;34m\u001b[0m\u001b[0m\n\u001b[1;32m    167\u001b[0m                 )\n",
      "\u001b[0;31mValueError\u001b[0m: Plotting multiple histograms with different binning is not supported"
     ]
    },
    {
     "data": {
      "image/png": "[encoded data removed]",
      "text/plain": [
       "<Figure size 504x504 with 1 Axes>"
      ]
     },
     "metadata": {
      "needs_background": "light"
     },
     "output_type": "display_data"
    }
   ],
   "source": [
    "var='met'\n",
    "plt.Stack(var, xtit='', ytit='')\n",
    "\n",
    "# Plotting multiple histograms with different binning is not supported"
   ]
  },
  {
   "cell_type": "code",
   "execution_count": 134,
   "metadata": {},
   "outputs": [
    {
     "ename": "NameError",
     "evalue": "name 'overflow_behavior' is not defined",
     "output_type": "error",
     "traceback": [
      "\u001b[0;31m---------------------------------------------------------------------------\u001b[0m",
      "\u001b[0;31mNameError\u001b[0m                                 Traceback (most recent call last)",
      "\u001b[0;32m<ipython-input-134-304d55680add>\u001b[0m in \u001b[0;36m<module>\u001b[0;34m\u001b[0m\n\u001b[0;32m----> 1\u001b[0;31m \u001b[0mh\u001b[0m\u001b[0;34m.\u001b[0m\u001b[0msum\u001b[0m\u001b[0;34m(\u001b[0m\u001b[0;34m'met'\u001b[0m\u001b[0;34m,\u001b[0m \u001b[0;34m'process'\u001b[0m\u001b[0;34m)\u001b[0m\u001b[0;34m.\u001b[0m\u001b[0mvalues\u001b[0m\u001b[0;34m(\u001b[0m\u001b[0msumw2\u001b[0m\u001b[0;34m=\u001b[0m\u001b[0;32mFalse\u001b[0m\u001b[0;34m)\u001b[0m\u001b[0;34m\u001b[0m\u001b[0;34m\u001b[0m\u001b[0m\n\u001b[0m",
      "\u001b[0;32m~/topcoffea/topcoffea/modules/HistEFT.py\u001b[0m in \u001b[0;36msum\u001b[0;34m(self, *axes, **kwargs)\u001b[0m\n\u001b[1;32m    256\u001b[0m         \u001b[0midense\u001b[0m \u001b[0;34m=\u001b[0m \u001b[0mself\u001b[0m\u001b[0;34m.\u001b[0m\u001b[0m_idense\u001b[0m\u001b[0;34m(\u001b[0m\u001b[0maxis\u001b[0m\u001b[0;34m)\u001b[0m\u001b[0;34m\u001b[0m\u001b[0;34m\u001b[0m\u001b[0m\n\u001b[1;32m    257\u001b[0m         \u001b[0mdense_sum_dim\u001b[0m\u001b[0;34m.\u001b[0m\u001b[0mappend\u001b[0m\u001b[0;34m(\u001b[0m\u001b[0midense\u001b[0m\u001b[0;34m)\u001b[0m\u001b[0;34m\u001b[0m\u001b[0;34m\u001b[0m\u001b[0m\n\u001b[0;32m--> 258\u001b[0;31m         \u001b[0mdense_slice\u001b[0m\u001b[0;34m[\u001b[0m\u001b[0midense\u001b[0m\u001b[0;34m]\u001b[0m \u001b[0;34m=\u001b[0m \u001b[0moverflow_behavior\u001b[0m\u001b[0;34m(\u001b[0m\u001b[0moverflow\u001b[0m\u001b[0;34m)\u001b[0m\u001b[0;34m\u001b[0m\u001b[0;34m\u001b[0m\u001b[0m\n\u001b[0m\u001b[1;32m    259\u001b[0m       \u001b[0;32melif\u001b[0m \u001b[0misinstance\u001b[0m\u001b[0;34m(\u001b[0m\u001b[0maxis\u001b[0m\u001b[0;34m,\u001b[0m \u001b[0mcoffea\u001b[0m\u001b[0;34m.\u001b[0m\u001b[0mhist\u001b[0m\u001b[0;34m.\u001b[0m\u001b[0mhist_tools\u001b[0m\u001b[0;34m.\u001b[0m\u001b[0mSparseAxis\u001b[0m\u001b[0;34m)\u001b[0m\u001b[0;34m:\u001b[0m\u001b[0;34m\u001b[0m\u001b[0;34m\u001b[0m\u001b[0m\n\u001b[1;32m    260\u001b[0m         \u001b[0misparse\u001b[0m \u001b[0;34m=\u001b[0m \u001b[0mself\u001b[0m\u001b[0;34m.\u001b[0m\u001b[0m_isparse\u001b[0m\u001b[0;34m(\u001b[0m\u001b[0maxis\u001b[0m\u001b[0;34m)\u001b[0m\u001b[0;34m\u001b[0m\u001b[0;34m\u001b[0m\u001b[0m\n",
      "\u001b[0;31mNameError\u001b[0m: name 'overflow_behavior' is not defined"
     ]
    }
   ],
   "source": [
    "h.sum('met', 'process').values(sumw2=False)"
   ]
  },
  {
   "cell_type": "code",
   "execution_count": 116,
   "metadata": {},
   "outputs": [
    {
     "name": "stderr",
     "output_type": "stream",
     "text": [
      "/opt/conda/lib/python3.8/site-packages/coffea/hist/hist_tools.py:348: RuntimeWarning: Not all requested indices present in <Cat (name=sample) instance at 0x7f359d2b9e20>\n",
      "  warnings.warn(\"Not all requested indices present in %r\" % self, RuntimeWarning)\n",
      "/opt/conda/lib/python3.8/site-packages/coffea/hist/hist_tools.py:348: RuntimeWarning: Not all requested indices present in <Cat (name=sample) instance at 0x7f358d0ee970>\n",
      "  warnings.warn(\"Not all requested indices present in %r\" % self, RuntimeWarning)\n",
      "/opt/conda/lib/python3.8/site-packages/coffea/hist/hist_tools.py:348: RuntimeWarning: Not all requested indices present in <Cat (name=sample) instance at 0x7f3503e0a3a0>\n",
      "  warnings.warn(\"Not all requested indices present in %r\" % self, RuntimeWarning)\n",
      "/opt/conda/lib/python3.8/site-packages/coffea/hist/hist_tools.py:348: RuntimeWarning: Not all requested indices present in <Cat (name=sample) instance at 0x7f359d2859d0>\n",
      "  warnings.warn(\"Not all requested indices present in %r\" % self, RuntimeWarning)\n",
      "/opt/conda/lib/python3.8/site-packages/coffea/hist/hist_tools.py:348: RuntimeWarning: Not all requested indices present in <Cat (name=sample) instance at 0x7f358cfb70d0>\n",
      "  warnings.warn(\"Not all requested indices present in %r\" % self, RuntimeWarning)\n",
      "/opt/conda/lib/python3.8/site-packages/coffea/hist/hist_tools.py:348: RuntimeWarning: Not all requested indices present in <Cat (name=sample) instance at 0x7f358cefe0a0>\n",
      "  warnings.warn(\"Not all requested indices present in %r\" % self, RuntimeWarning)\n",
      "/opt/conda/lib/python3.8/site-packages/coffea/hist/hist_tools.py:348: RuntimeWarning: Not all requested indices present in <Cat (name=sample) instance at 0x7f359d2cd250>\n",
      "  warnings.warn(\"Not all requested indices present in %r\" % self, RuntimeWarning)\n",
      "/opt/conda/lib/python3.8/site-packages/coffea/hist/hist_tools.py:348: RuntimeWarning: Not all requested indices present in <Cat (name=sample) instance at 0x7f359d29f400>\n",
      "  warnings.warn(\"Not all requested indices present in %r\" % self, RuntimeWarning)\n",
      "/opt/conda/lib/python3.8/site-packages/coffea/hist/hist_tools.py:348: RuntimeWarning: Not all requested indices present in <Cat (name=sample) instance at 0x7f358d1f41c0>\n",
      "  warnings.warn(\"Not all requested indices present in %r\" % self, RuntimeWarning)\n",
      "/opt/conda/lib/python3.8/site-packages/coffea/hist/hist_tools.py:348: RuntimeWarning: Not all requested indices present in <Cat (name=sample) instance at 0x7f358d2069d0>\n",
      "  warnings.warn(\"Not all requested indices present in %r\" % self, RuntimeWarning)\n",
      "/opt/conda/lib/python3.8/site-packages/coffea/hist/hist_tools.py:348: RuntimeWarning: Not all requested indices present in <Cat (name=sample) instance at 0x7f358d1db5b0>\n",
      "  warnings.warn(\"Not all requested indices present in %r\" % self, RuntimeWarning)\n",
      "/opt/conda/lib/python3.8/site-packages/coffea/hist/hist_tools.py:348: RuntimeWarning: Not all requested indices present in <Cat (name=sample) instance at 0x7f358d167b80>\n",
      "  warnings.warn(\"Not all requested indices present in %r\" % self, RuntimeWarning)\n",
      "/opt/conda/lib/python3.8/site-packages/coffea/hist/hist_tools.py:348: RuntimeWarning: Not all requested indices present in <Cat (name=sample) instance at 0x7f359d2ade50>\n",
      "  warnings.warn(\"Not all requested indices present in %r\" % self, RuntimeWarning)\n",
      "/opt/conda/lib/python3.8/site-packages/coffea/hist/hist_tools.py:348: RuntimeWarning: Not all requested indices present in <Cat (name=sample) instance at 0x7f359d25ba00>\n",
      "  warnings.warn(\"Not all requested indices present in %r\" % self, RuntimeWarning)\n"
     ]
    }
   ],
   "source": [
    "#part that works\n",
    "plt = plotter(path, prDic=processDic, bkgList=bkglist)\n",
    "plt.plotData = True\n",
    "plt.SetColors(colors)\n",
    "plt.SetCategories(categories)\n",
    "plt.SetRegion(label)\n",
    "plt.Stack(var, xtit='', ytit='')\n",
    "#plt.PrintYields('counts')"
   ]
  },
  {
   "cell_type": "code",
   "execution_count": 117,
   "metadata": {},
   "outputs": [
    {
     "data": {
      "text/plain": [
       "''"
      ]
     },
     "execution_count": 117,
     "metadata": {},
     "output_type": "execute_result"
    }
   ],
   "source": [
    "plt.region"
   ]
  },
  {
   "cell_type": "code",
   "execution_count": 85,
   "metadata": {},
   "outputs": [
    {
     "name": "stdout",
     "output_type": "stream",
     "text": [
      " \\\\ \n",
      "\n",
      "\\hline\n",
      "\n"
     ]
    },
    {
     "ename": "IndexError",
     "evalue": "list index out of range",
     "output_type": "error",
     "traceback": [
      "\u001b[0;31m---------------------------------------------------------------------------\u001b[0m",
      "\u001b[0;31mIndexError\u001b[0m                                Traceback (most recent call last)",
      "\u001b[0;32m<ipython-input-85-09d112873b70>\u001b[0m in \u001b[0;36m<module>\u001b[0;34m\u001b[0m\n\u001b[0;32m----> 1\u001b[0;31m \u001b[0mplt\u001b[0m\u001b[0;34m.\u001b[0m\u001b[0mPrintYields\u001b[0m\u001b[0;34m(\u001b[0m\u001b[0;34m'counts'\u001b[0m\u001b[0;34m)\u001b[0m\u001b[0;34m\u001b[0m\u001b[0;34m\u001b[0m\u001b[0m\n\u001b[0m",
      "\u001b[0;32m~/topcoffea/topcoffea/plotter/plotter.py\u001b[0m in \u001b[0;36mPrintYields\u001b[0;34m(self, var, tform, save, multicategories, bkgprocess, signalprocess, doData, doTotBkg)\u001b[0m\n\u001b[1;32m    327\u001b[0m     \u001b[0;32mfor\u001b[0m \u001b[0mk\u001b[0m \u001b[0;32min\u001b[0m \u001b[0mself\u001b[0m\u001b[0;34m.\u001b[0m\u001b[0mmulticategories\u001b[0m\u001b[0;34m.\u001b[0m\u001b[0mkeys\u001b[0m\u001b[0;34m(\u001b[0m\u001b[0;34m)\u001b[0m\u001b[0;34m:\u001b[0m\u001b[0;34m\u001b[0m\u001b[0;34m\u001b[0m\u001b[0m\n\u001b[1;32m    328\u001b[0m       \u001b[0mself\u001b[0m\u001b[0;34m.\u001b[0m\u001b[0mSetCategories\u001b[0m\u001b[0;34m(\u001b[0m\u001b[0mself\u001b[0m\u001b[0;34m.\u001b[0m\u001b[0mmulticategories\u001b[0m\u001b[0;34m[\u001b[0m\u001b[0mk\u001b[0m\u001b[0;34m]\u001b[0m\u001b[0;34m)\u001b[0m\u001b[0;34m\u001b[0m\u001b[0;34m\u001b[0m\u001b[0m\n\u001b[0;32m--> 329\u001b[0;31m       \u001b[0mdic\u001b[0m\u001b[0;34m[\u001b[0m\u001b[0mk\u001b[0m\u001b[0;34m]\u001b[0m \u001b[0;34m=\u001b[0m \u001b[0mself\u001b[0m\u001b[0;34m.\u001b[0m\u001b[0mGetYields\u001b[0m\u001b[0;34m(\u001b[0m\u001b[0mvar\u001b[0m\u001b[0;34m)\u001b[0m\u001b[0;34m\u001b[0m\u001b[0;34m\u001b[0m\u001b[0m\n\u001b[0m\u001b[1;32m    330\u001b[0m     \u001b[0;31m# header\u001b[0m\u001b[0;34m\u001b[0m\u001b[0;34m\u001b[0m\u001b[0;34m\u001b[0m\u001b[0m\n\u001b[1;32m    331\u001b[0m     \u001b[0mheader\u001b[0m \u001b[0;34m=\u001b[0m \u001b[0;34m''\u001b[0m\u001b[0;34m\u001b[0m\u001b[0;34m\u001b[0m\u001b[0m\n",
      "\u001b[0;32m~/topcoffea/topcoffea/plotter/plotter.py\u001b[0m in \u001b[0;36mGetYields\u001b[0;34m(self, var)\u001b[0m\n\u001b[1;32m    290\u001b[0m     \u001b[0;32mfor\u001b[0m \u001b[0mbkg\u001b[0m \u001b[0;32min\u001b[0m \u001b[0mself\u001b[0m\u001b[0;34m.\u001b[0m\u001b[0mbkglist\u001b[0m\u001b[0;34m:\u001b[0m\u001b[0;34m\u001b[0m\u001b[0;34m\u001b[0m\u001b[0m\n\u001b[1;32m    291\u001b[0m       \u001b[0my\u001b[0m \u001b[0;34m=\u001b[0m \u001b[0mh\u001b[0m\u001b[0;34m[\u001b[0m\u001b[0mbkg\u001b[0m\u001b[0;34m]\u001b[0m\u001b[0;34m.\u001b[0m\u001b[0mintegrate\u001b[0m\u001b[0;34m(\u001b[0m\u001b[0;34m\"process\"\u001b[0m\u001b[0;34m)\u001b[0m\u001b[0;34m.\u001b[0m\u001b[0mvalues\u001b[0m\u001b[0;34m(\u001b[0m\u001b[0moverflow\u001b[0m\u001b[0;34m=\u001b[0m\u001b[0;34m'all'\u001b[0m\u001b[0;34m)\u001b[0m\u001b[0;34m\u001b[0m\u001b[0;34m\u001b[0m\u001b[0m\n\u001b[0;32m--> 292\u001b[0;31m       \u001b[0my\u001b[0m \u001b[0;34m=\u001b[0m \u001b[0my\u001b[0m\u001b[0;34m[\u001b[0m\u001b[0mlist\u001b[0m\u001b[0;34m(\u001b[0m\u001b[0my\u001b[0m\u001b[0;34m.\u001b[0m\u001b[0mkeys\u001b[0m\u001b[0;34m(\u001b[0m\u001b[0;34m)\u001b[0m\u001b[0;34m)\u001b[0m\u001b[0;34m[\u001b[0m\u001b[0;36m0\u001b[0m\u001b[0;34m]\u001b[0m\u001b[0;34m]\u001b[0m\u001b[0;34m.\u001b[0m\u001b[0msum\u001b[0m\u001b[0;34m(\u001b[0m\u001b[0;34m)\u001b[0m\u001b[0;34m\u001b[0m\u001b[0;34m\u001b[0m\u001b[0m\n\u001b[0m\u001b[1;32m    293\u001b[0m       \u001b[0msumy\u001b[0m \u001b[0;34m+=\u001b[0m \u001b[0my\u001b[0m\u001b[0;34m\u001b[0m\u001b[0;34m\u001b[0m\u001b[0m\n\u001b[1;32m    294\u001b[0m       \u001b[0mdicyields\u001b[0m\u001b[0;34m[\u001b[0m\u001b[0mbkg\u001b[0m\u001b[0;34m]\u001b[0m \u001b[0;34m=\u001b[0m \u001b[0my\u001b[0m\u001b[0;34m\u001b[0m\u001b[0;34m\u001b[0m\u001b[0m\n",
      "\u001b[0;31mIndexError\u001b[0m: list index out of range"
     ]
    }
   ],
   "source": [
    "plt.PrintYields('counts')"
   ]
  },
  {
   "cell_type": "code",
   "execution_count": 135,
   "metadata": {},
   "outputs": [],
   "source": [
    "h = plt.GetHistogram(var, plt.bkglist)\n",
    "plt.lumi=59.7"
   ]
  },
  {
   "cell_type": "code",
   "execution_count": 136,
   "metadata": {},
   "outputs": [],
   "source": [
    "h.scale(1000.*plt.lumi)"
   ]
  },
  {
   "cell_type": "code",
   "execution_count": 137,
   "metadata": {},
   "outputs": [
    {
     "data": {
      "text/plain": [
       "<HistEFT (process,met) instance at 0x7f359d3258b0>"
      ]
     },
     "execution_count": 137,
     "metadata": {},
     "output_type": "execute_result"
    }
   ],
   "source": [
    "h"
   ]
  },
  {
   "cell_type": "code",
   "execution_count": 138,
   "metadata": {},
   "outputs": [
    {
     "ename": "ValueError",
     "evalue": "Plotting multiple histograms with different binning is not supported",
     "output_type": "error",
     "traceback": [
      "\u001b[0;31m---------------------------------------------------------------------------\u001b[0m",
      "\u001b[0;31mValueError\u001b[0m                                Traceback (most recent call last)",
      "\u001b[0;32m<ipython-input-138-16a2f558c385>\u001b[0m in \u001b[0;36m<module>\u001b[0;34m\u001b[0m\n\u001b[1;32m      4\u001b[0m \u001b[0mfig\u001b[0m\u001b[0;34m,\u001b[0m \u001b[0;34m(\u001b[0m\u001b[0max\u001b[0m\u001b[0;34m,\u001b[0m \u001b[0mrax\u001b[0m\u001b[0;34m)\u001b[0m \u001b[0;34m=\u001b[0m \u001b[0mmplt\u001b[0m\u001b[0;34m.\u001b[0m\u001b[0msubplots\u001b[0m\u001b[0;34m(\u001b[0m\u001b[0;36m2\u001b[0m\u001b[0;34m,\u001b[0m \u001b[0;36m1\u001b[0m\u001b[0;34m,\u001b[0m \u001b[0mfigsize\u001b[0m\u001b[0;34m=\u001b[0m\u001b[0;34m(\u001b[0m\u001b[0;36m7\u001b[0m\u001b[0;34m,\u001b[0m\u001b[0;36m7\u001b[0m\u001b[0;34m)\u001b[0m\u001b[0;34m,\u001b[0m \u001b[0mgridspec_kw\u001b[0m\u001b[0;34m=\u001b[0m\u001b[0;34m{\u001b[0m\u001b[0;34m\"height_ratios\"\u001b[0m\u001b[0;34m:\u001b[0m \u001b[0;34m(\u001b[0m\u001b[0;36m3\u001b[0m\u001b[0;34m,\u001b[0m \u001b[0;36m1\u001b[0m\u001b[0;34m)\u001b[0m\u001b[0;34m}\u001b[0m\u001b[0;34m,\u001b[0m \u001b[0msharex\u001b[0m\u001b[0;34m=\u001b[0m\u001b[0;32mTrue\u001b[0m\u001b[0;34m)\u001b[0m\u001b[0;34m\u001b[0m\u001b[0;34m\u001b[0m\u001b[0m\n\u001b[1;32m      5\u001b[0m \u001b[0mfig\u001b[0m\u001b[0;34m.\u001b[0m\u001b[0msubplots_adjust\u001b[0m\u001b[0;34m(\u001b[0m\u001b[0mhspace\u001b[0m\u001b[0;34m=\u001b[0m\u001b[0;36m.07\u001b[0m\u001b[0;34m)\u001b[0m\u001b[0;34m\u001b[0m\u001b[0;34m\u001b[0m\u001b[0m\n\u001b[0;32m----> 6\u001b[0;31m \u001b[0mhist\u001b[0m\u001b[0;34m.\u001b[0m\u001b[0mplot1d\u001b[0m\u001b[0;34m(\u001b[0m\u001b[0mh\u001b[0m\u001b[0;34m,\u001b[0m \u001b[0moverlay\u001b[0m\u001b[0;34m=\u001b[0m\u001b[0;34m\"process\"\u001b[0m\u001b[0;34m,\u001b[0m \u001b[0max\u001b[0m\u001b[0;34m=\u001b[0m\u001b[0max\u001b[0m\u001b[0;34m,\u001b[0m \u001b[0mclear\u001b[0m\u001b[0;34m=\u001b[0m\u001b[0;32mFalse\u001b[0m\u001b[0;34m,\u001b[0m \u001b[0mstack\u001b[0m\u001b[0;34m=\u001b[0m\u001b[0;32mTrue\u001b[0m\u001b[0;34m)\u001b[0m\u001b[0;34m\u001b[0m\u001b[0;34m\u001b[0m\u001b[0m\n\u001b[0m",
      "\u001b[0;32m/opt/conda/lib/python3.8/site-packages/coffea/hist/plot.py\u001b[0m in \u001b[0;36mplot1d\u001b[0;34m(hist, ax, clear, overlay, stack, overflow, line_opts, fill_opts, error_opts, legend_opts, overlay_overflow, density, binwnorm, order)\u001b[0m\n\u001b[1;32m    255\u001b[0m             \u001b[0mkwargs\u001b[0m \u001b[0;34m=\u001b[0m \u001b[0;34m{\u001b[0m\u001b[0;34m}\u001b[0m\u001b[0;34m\u001b[0m\u001b[0;34m\u001b[0m\u001b[0m\n\u001b[1;32m    256\u001b[0m \u001b[0;34m\u001b[0m\u001b[0m\n\u001b[0;32m--> 257\u001b[0;31m         hep.histplot(plot_info['sumw'], edges, label=plot_info['label'],\n\u001b[0m\u001b[1;32m    258\u001b[0m                      \u001b[0myerr\u001b[0m\u001b[0;34m=\u001b[0m\u001b[0m_error\u001b[0m\u001b[0;34m,\u001b[0m \u001b[0mhisttype\u001b[0m\u001b[0;34m=\u001b[0m\u001b[0mhisttype\u001b[0m\u001b[0;34m,\u001b[0m \u001b[0max\u001b[0m\u001b[0;34m=\u001b[0m\u001b[0max\u001b[0m\u001b[0;34m,\u001b[0m\u001b[0;34m\u001b[0m\u001b[0;34m\u001b[0m\u001b[0m\n\u001b[1;32m    259\u001b[0m                      \u001b[0mdensity\u001b[0m\u001b[0;34m=\u001b[0m\u001b[0mdensity\u001b[0m\u001b[0;34m,\u001b[0m \u001b[0mbinwnorm\u001b[0m\u001b[0;34m=\u001b[0m\u001b[0mbinwnorm\u001b[0m\u001b[0;34m,\u001b[0m \u001b[0mstack\u001b[0m\u001b[0;34m=\u001b[0m\u001b[0mstack\u001b[0m\u001b[0;34m,\u001b[0m\u001b[0;34m\u001b[0m\u001b[0;34m\u001b[0m\u001b[0m\n",
      "\u001b[0;32m/opt/conda/lib/python3.8/site-packages/mplhep/plot.py\u001b[0m in \u001b[0;36mhistplot\u001b[0;34m(H, bins, yerr, w2, stack, density, binwnorm, histtype, label, edges, binticks, ax, **kwargs)\u001b[0m\n\u001b[1;32m    163\u001b[0m                 \u001b[0m_bins\u001b[0m\u001b[0;34m.\u001b[0m\u001b[0mappend\u001b[0m\u001b[0;34m(\u001b[0m\u001b[0mbins\u001b[0m\u001b[0;34m)\u001b[0m\u001b[0;34m\u001b[0m\u001b[0;34m\u001b[0m\u001b[0m\n\u001b[1;32m    164\u001b[0m             \u001b[0;32mif\u001b[0m \u001b[0mlen\u001b[0m\u001b[0;34m(\u001b[0m\u001b[0mset\u001b[0m\u001b[0;34m(\u001b[0m\u001b[0mmap\u001b[0m\u001b[0;34m(\u001b[0m\u001b[0mlen\u001b[0m\u001b[0;34m,\u001b[0m \u001b[0m_H\u001b[0m\u001b[0;34m)\u001b[0m\u001b[0;34m)\u001b[0m\u001b[0;34m)\u001b[0m \u001b[0;34m!=\u001b[0m \u001b[0;36m1\u001b[0m\u001b[0;34m:\u001b[0m\u001b[0;34m\u001b[0m\u001b[0;34m\u001b[0m\u001b[0m\n\u001b[0;32m--> 165\u001b[0;31m                 raise ValueError(\n\u001b[0m\u001b[1;32m    166\u001b[0m                     \u001b[0;34m\"Plotting multiple histograms with different binning is not supported\"\u001b[0m\u001b[0;34m\u001b[0m\u001b[0;34m\u001b[0m\u001b[0m\n\u001b[1;32m    167\u001b[0m                 )\n",
      "\u001b[0;31mValueError\u001b[0m: Plotting multiple histograms with different binning is not supported"
     ]
    },
    {
     "data": {
      "image/png": "[encoded data removed]",
      "text/plain": [
       "<Figure size 504x504 with 2 Axes>"
      ]
     },
     "metadata": {
      "needs_background": "light"
     },
     "output_type": "display_data"
    }
   ],
   "source": [
    "import matplotlib.pyplot as mplt\n",
    "\n",
    "\n",
    "fig, (ax, rax) = mplt.subplots(2, 1, figsize=(7,7), gridspec_kw={\"height_ratios\": (3, 1)}, sharex=True)\n",
    "fig.subplots_adjust(hspace=.07)\n",
    "hist.plot1d(h, overlay=\"process\", ax=ax, clear=False, stack=True)\n"
   ]
  },
  {
   "cell_type": "code",
   "execution_count": 127,
   "metadata": {},
   "outputs": [
    {
     "data": {
      "text/plain": [
       "['process', 'met']"
      ]
     },
     "execution_count": 127,
     "metadata": {},
     "output_type": "execute_result"
    }
   ],
   "source": [
    "h.fields"
   ]
  },
  {
   "cell_type": "code",
   "execution_count": 128,
   "metadata": {},
   "outputs": [
    {
     "data": {
      "text/plain": [
       "<HistEFT (process,met) instance at 0x7f3503e0a7c0>"
      ]
     },
     "execution_count": 128,
     "metadata": {},
     "output_type": "execute_result"
    }
   ],
   "source": [
    "h"
   ]
  },
  {
   "cell_type": "code",
   "execution_count": null,
   "metadata": {},
   "outputs": [],
   "source": []
  },
  {
   "cell_type": "code",
   "execution_count": 112,
   "metadata": {},
   "outputs": [],
   "source": [
    "y = h[bkglist[3]].integrate(\"process\").values(overflow='all')"
   ]
  },
  {
   "cell_type": "code",
   "execution_count": 113,
   "metadata": {},
   "outputs": [
    {
     "data": {
      "text/plain": [
       "{}"
      ]
     },
     "execution_count": 113,
     "metadata": {},
     "output_type": "execute_result"
    }
   ],
   "source": []
  },
  {
   "cell_type": "code",
   "execution_count": null,
   "metadata": {},
   "outputs": [],
   "source": [
    "\n",
    "h = self.GetHistogram(var, self.bkglist)\n",
    "    h.scale(1000.*self.lumi)\n",
    "    for bkg in self.bkglist:\n",
    "        if bkg!='DY':\n",
    "            continue\n",
    "      y = h[bkg].integrate(\"process\").values(overflow='all')\n",
    "      y = y[list(y.keys())[0]].sum()\n",
    "      sumy += y\n",
    "      dicyields[bkg] = y\n",
    "    if self.doData(var):\n",
    "      hData = self.GetHistogram(var, self.dataName)\n",
    "      ydata = hData.values(overflow='all')\n",
    "      ndata = ydata[list(ydata.keys())[0]].sum()\n",
    "      dicyields['data'] = ndata\n",
    "    return dicyields"
   ]
  },
  {
   "cell_type": "code",
   "execution_count": 88,
   "metadata": {},
   "outputs": [
    {
     "data": {
      "text/plain": [
       "['Nonprompt', 'Other', 'DY', 'ttH', 'WZ', 'ZZ', 'ttZ', 'ttW']"
      ]
     },
     "execution_count": 88,
     "metadata": {},
     "output_type": "execute_result"
    }
   ],
   "source": [
    "bkglist"
   ]
  },
  {
   "cell_type": "code",
   "execution_count": 95,
   "metadata": {},
   "outputs": [
    {
     "data": {
      "text/plain": [
       "<HistEFT (process,met) instance at 0x7f359d2d5880>"
      ]
     },
     "execution_count": 95,
     "metadata": {},
     "output_type": "execute_result"
    }
   ],
   "source": [
    "h['met']"
   ]
  },
  {
   "cell_type": "code",
   "execution_count": null,
   "metadata": {},
   "outputs": [],
   "source": []
  }
 ],
 "metadata": {
  "kernelspec": {
   "display_name": "Python 3",
   "language": "python",
   "name": "python3"
  },
  "language_info": {
   "codemirror_mode": {
    "name": "ipython",
    "version": 3
   },
   "file_extension": ".py",
   "mimetype": "text/x-python",
   "name": "python",
   "nbconvert_exporter": "python",
   "pygments_lexer": "ipython3",
   "version": "3.8.5"
  }
 },
 "nbformat": 4,
 "nbformat_minor": 4
}
